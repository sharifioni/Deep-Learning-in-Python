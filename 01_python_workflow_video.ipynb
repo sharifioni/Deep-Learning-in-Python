{
 "cells": [
  {
   "cell_type": "markdown",
   "metadata": {},
   "source": [
    "# PyTorch Workflow\n",
    "\n",
    "Let's explore an example PyTorch end to end workflow\n",
    "\n",
    "Resources:\n",
    "* Ground Truth notebook: https://github.com/mrdbourke/pytorch-deep-learning/blob/main/01_pytorch_workflow.ipynb\n"
   ]
  },
  {
   "cell_type": "code",
   "execution_count": 52,
   "metadata": {},
   "outputs": [
    {
     "data": {
      "text/plain": [
       "{1: 'data (prepare and load)',\n",
       " 2: 'build model',\n",
       " 3: 'fitting the model to the data (training)',\n",
       " 4: 'making predictions and evaluating a model (inference)',\n",
       " 5: 'saving and loading a model',\n",
       " 6: 'putting it all together'}"
      ]
     },
     "execution_count": 52,
     "metadata": {},
     "output_type": "execute_result"
    }
   ],
   "source": [
    "what_weare_covering = { 1: \"data (prepare and load)\",\n",
    "                        2: \"build model\",\n",
    "                        3: \"fitting the model to the data (training)\",\n",
    "                        4: \"making predictions and evaluating a model (inference)\",\n",
    "                        5: \"saving and loading a model\",\n",
    "                        6: \"putting it all together\"}\n",
    "\n",
    "what_weare_covering"
   ]
  },
  {
   "cell_type": "code",
   "execution_count": 53,
   "metadata": {},
   "outputs": [
    {
     "data": {
      "text/plain": [
       "'2.3.1'"
      ]
     },
     "execution_count": 53,
     "metadata": {},
     "output_type": "execute_result"
    }
   ],
   "source": [
    "import torch\n",
    "from torch import nn # nn contains all of PyTorch's building blocks for neural networks\n",
    "import matplotlib.pyplot as plt\n",
    "\n",
    "#Check PyTorch version\n",
    "torch.__version__"
   ]
  },
  {
   "cell_type": "markdown",
   "metadata": {},
   "source": [
    "# 1. Data Preparing and Loading\n",
    "\n",
    "Data can be almost anything... in machine learning.\n",
    "\n",
    "* Excel spreadsheet\n",
    "* images\n",
    "* videos\n",
    "* audio\n",
    "* DNA\n",
    "* text\n",
    "\n",
    "Machine learning is a game of two parts:\n",
    "1. Get data into numerical representation.\n",
    "2. Build a model to learn patterns in that numerical representation.\n",
    "\n",
    "To showcase this, let's create some *known* data using the linear regression formula\n",
    "\n",
    "We'll use a linear regression formula to make a straight line with *known* **parameters**. \n"
   ]
  },
  {
   "cell_type": "code",
   "execution_count": 54,
   "metadata": {},
   "outputs": [
    {
     "data": {
      "text/plain": [
       "(tensor([[0.0000],\n",
       "         [0.0200],\n",
       "         [0.0400],\n",
       "         [0.0600],\n",
       "         [0.0800],\n",
       "         [0.1000],\n",
       "         [0.1200],\n",
       "         [0.1400],\n",
       "         [0.1600],\n",
       "         [0.1800]], device='cuda:0'),\n",
       " tensor([[0.3000],\n",
       "         [0.3140],\n",
       "         [0.3280],\n",
       "         [0.3420],\n",
       "         [0.3560],\n",
       "         [0.3700],\n",
       "         [0.3840],\n",
       "         [0.3980],\n",
       "         [0.4120],\n",
       "         [0.4260]], device='cuda:0'),\n",
       " 50,\n",
       " 50)"
      ]
     },
     "execution_count": 54,
     "metadata": {},
     "output_type": "execute_result"
    }
   ],
   "source": [
    "# Create *known* parameters\n",
    "weight = 0.7\n",
    "bias = 0.3 \n",
    "\n",
    "# Create\n",
    "start = 0\n",
    "end = 1\n",
    "step = 0.02\n",
    "\n",
    "X = torch.arange(start, end, step).unsqueeze(dim = 1)\n",
    "\n",
    "y = weight * X + bias\n",
    "\n",
    "device = torch.device(\"cuda\" if torch.cuda.is_available() else \"cpu\")\n",
    "\n",
    "X , y = X.to(device), y.to(device)\n",
    "\n",
    "X[ : 10], y[ : 10], len(X), len(y)"
   ]
  },
  {
   "cell_type": "code",
   "execution_count": 55,
   "metadata": {},
   "outputs": [
    {
     "data": {
      "text/plain": [
       "(device(type='cuda', index=0), device(type='cuda', index=0))"
      ]
     },
     "execution_count": 55,
     "metadata": {},
     "output_type": "execute_result"
    }
   ],
   "source": [
    "X.device, y.device"
   ]
  },
  {
   "cell_type": "markdown",
   "metadata": {},
   "source": [
    "### Splitting data into training and test sets (One of the most important concepts in machine learning in general)\n",
    "\n",
    "Let's create a training and testing set with our data"
   ]
  },
  {
   "cell_type": "code",
   "execution_count": 56,
   "metadata": {},
   "outputs": [
    {
     "data": {
      "text/plain": [
       "(40, 40, 10, 10)"
      ]
     },
     "execution_count": 56,
     "metadata": {},
     "output_type": "execute_result"
    }
   ],
   "source": [
    "# Create a train/test split\n",
    "\n",
    "train_split = int(0.8 * len(X))\n",
    "#train_split\n",
    "\n",
    "X_train , Y_train = X[ : train_split], y[ : train_split]\n",
    "X_test, Y_test = X[train_split : ], y [train_split : ]\n",
    "\n",
    "X_train, Y_train\n",
    "\n",
    "len(X_train), len(Y_train), len(X_test), len(Y_test)"
   ]
  },
  {
   "cell_type": "code",
   "execution_count": null,
   "metadata": {},
   "outputs": [],
   "source": []
  },
  {
   "cell_type": "markdown",
   "metadata": {},
   "source": [
    "How might we better visualize our data?\n",
    "\n",
    "This is where the data explorer's motto comes in!\n",
    "\n",
    "\"Visualize, visualize, visualize\""
   ]
  },
  {
   "cell_type": "code",
   "execution_count": 57,
   "metadata": {},
   "outputs": [],
   "source": [
    "def plot_predictions(train_data = X_train,\n",
    "                     train_labels = Y_train,\n",
    "                     test_data = X_test,\n",
    "                     test_labels = Y_test,\n",
    "                     predictions = None):\n",
    "\n",
    "  \"\"\"\n",
    "  Plots training data, test data and compare predictions\n",
    "  \"\"\"\n",
    "  if train_data.is_cuda:\n",
    "        train_data = train_data.cpu()\n",
    "  if train_labels.is_cuda:\n",
    "      train_labels = train_labels.cpu()\n",
    "  if test_data.is_cuda:\n",
    "      test_data = test_data.cpu()\n",
    "  if test_labels.is_cuda:\n",
    "      test_labels = test_labels.cpu()\n",
    "  if predictions is not None and predictions.is_cuda:\n",
    "      predictions = predictions.cpu()\n",
    "      \n",
    "  plt.figure(figsize = (10, 7))\n",
    "\n",
    "  # Plot training data in blue\n",
    "  plt.scatter(train_data, train_labels, c= \"b\", s = 4, label = \"Training data\")\n",
    "\n",
    "  # Plot testing data in green\n",
    "  plt.scatter(test_data, test_labels, c= \"g\", s = 4, label = \"Testing data\")\n",
    "\n",
    "  # Are there predictions?\n",
    "  if predictions is not None:\n",
    "\n",
    "    #Plot the predictions if they exist\n",
    "    plt.scatter(test_data, predictions, c = \"r\", s = 4, label = \"Predictions\")\n",
    "\n",
    "\n",
    "  #Show the legend\n",
    "  plt.legend(prop = {\"size\" : 14})"
   ]
  },
  {
   "cell_type": "code",
   "execution_count": 58,
   "metadata": {},
   "outputs": [
    {
     "data": {
      "image/png": "[encoded data removed]",
      "text/plain": [
       "<Figure size 1000x700 with 1 Axes>"
      ]
     },
     "metadata": {},
     "output_type": "display_data"
    }
   ],
   "source": [
    "plot_predictions()"
   ]
  },
  {
   "cell_type": "markdown",
   "metadata": {},
   "source": [
    "# 2. Build Model\n",
    "\n",
    "Our first PyTorch Model\n",
    "\n",
    "This is very exciting... let's do it\n",
    "\n",
    "\n",
    "What our model does:\n",
    "* Start with random values(weight and bias)\n",
    "* Look at the training data and adjust the random values to better represent (or get closer to) the ideal values. (the weight and bias values we used to create the data)\n",
    "\n",
    "How does it do so?\n",
    "\n",
    "Through two main algorithms:\n",
    "1. Gradient descent\n",
    "2. Back propogation"
   ]
  },
  {
   "cell_type": "code",
   "execution_count": 59,
   "metadata": {},
   "outputs": [
    {
     "name": "stdout",
     "output_type": "stream",
     "text": [
      "Parameter containing:\n",
      "tensor([-1.1229], device='cuda:0', requires_grad=True)\n",
      "tensor([[-1.0846],\n",
      "        [-1.1071],\n",
      "        [-1.1295],\n",
      "        [-1.1520],\n",
      "        [-1.1744],\n",
      "        [-1.1969],\n",
      "        [-1.2194],\n",
      "        [-1.2418],\n",
      "        [-1.2643],\n",
      "        [-1.2867]], device='cuda:0', grad_fn=<AddBackward0>)\n"
     ]
    }
   ],
   "source": [
    "# Create linear regression model class\n",
    "\n",
    "class LinearRegressionModel(nn.Module): # <- almost everything in PyTorch inherits from nn.Module\n",
    "    def __init__(self):\n",
    "        super().__init__()\n",
    "        self.weights = nn.Parameter(torch.randn(1,\n",
    "                                                requires_grad= True,\n",
    "                                                dtype= torch.float))\n",
    "        self.bias = nn.Parameter(torch.randn(1,\n",
    "                                                requires_grad= True,\n",
    "                                                dtype= torch.float))\n",
    "\n",
    "        # Forward method to define the computation in the model\n",
    "    def forward(self, x : torch.Tensor) -> torch.Tensor:   # <- x is the input data\n",
    "        return self.weights * x + self.bias\n",
    "        \n",
    "\n",
    "\n",
    "result = LinearRegressionModel()\n",
    "result.to(device)\n",
    "print(result.weights)\n",
    "print(result.forward(X_test))\n",
    "\n"
   ]
  },
  {
   "cell_type": "markdown",
   "metadata": {},
   "source": [
    "### Pytorch model building essentials\n",
    "* torch.nn - contains all of the buildings blocks for computational graphs (another word for neural networks)\n",
    "* torch.nn.parameter - what parameters should our model try and learn, often a pytorch layer from torch.nn will set these for us\n",
    "* torch.nn.Module - The base class for all neural network modules, if you subclass it, you should overwrite forward()\n",
    "* torch.optim - this is where the optimizers in PyTorch live, they will help with gradient descent\n",
    "* def forward() - All nn.Module subclasses require you to overwrite forward(), this method defines what happens in the forward computation"
   ]
  },
  {
   "cell_type": "markdown",
   "metadata": {},
   "source": [
    "### Checking the contents of our PyTorch model\n",
    "\n",
    "Now we've created a model, now let's see what's inside it"
   ]
  },
  {
   "cell_type": "code",
   "execution_count": 60,
   "metadata": {},
   "outputs": [
    {
     "data": {
      "text/plain": [
       "[Parameter containing:\n",
       " tensor([0.3367], device='cuda:0', requires_grad=True),\n",
       " Parameter containing:\n",
       " tensor([0.1288], device='cuda:0', requires_grad=True)]"
      ]
     },
     "execution_count": 60,
     "metadata": {},
     "output_type": "execute_result"
    }
   ],
   "source": [
    "# Create a random seed\n",
    "torch.manual_seed(42)\n",
    "\n",
    "# Create an instance of the model (this is the subclass of nn.Module)\n",
    "model_0 = LinearRegressionModel()\n",
    "model_0.to(device)\n",
    "\n",
    "# Check out the parameters\n",
    "list(model_0.parameters())"
   ]
  },
  {
   "cell_type": "code",
   "execution_count": 61,
   "metadata": {},
   "outputs": [
    {
     "data": {
      "text/plain": [
       "OrderedDict([('weights', tensor([0.3367], device='cuda:0')),\n",
       "             ('bias', tensor([0.1288], device='cuda:0'))])"
      ]
     },
     "execution_count": 61,
     "metadata": {},
     "output_type": "execute_result"
    }
   ],
   "source": [
    "# List named parameters\n",
    "model_0.state_dict()"
   ]
  },
  {
   "cell_type": "markdown",
   "metadata": {},
   "source": [
    "### Making predictions using 'torch.inference_mode()'\n",
    "\n",
    "To check our model's predictive power, let's see how well it predicts 'y_test' based on 'x_test'.\n",
    "\n",
    "When we pass data through our model, it's going to run it through the forward() method\n"
   ]
  },
  {
   "cell_type": "code",
   "execution_count": 62,
   "metadata": {},
   "outputs": [
    {
     "data": {
      "text/plain": [
       "tensor([[0.3982],\n",
       "        [0.4049],\n",
       "        [0.4116],\n",
       "        [0.4184],\n",
       "        [0.4251],\n",
       "        [0.4318],\n",
       "        [0.4386],\n",
       "        [0.4453],\n",
       "        [0.4520],\n",
       "        [0.4588]], device='cuda:0', grad_fn=<AddBackward0>)"
      ]
     },
     "execution_count": 62,
     "metadata": {},
     "output_type": "execute_result"
    }
   ],
   "source": [
    "y_preds = model_0(X_test)\n",
    "y_preds"
   ]
  },
  {
   "cell_type": "code",
   "execution_count": 63,
   "metadata": {},
   "outputs": [
    {
     "data": {
      "text/plain": [
       "(tensor([[0.3982],\n",
       "         [0.4049],\n",
       "         [0.4116],\n",
       "         [0.4184],\n",
       "         [0.4251],\n",
       "         [0.4318],\n",
       "         [0.4386],\n",
       "         [0.4453],\n",
       "         [0.4520],\n",
       "         [0.4588]], device='cuda:0'),\n",
       " tensor([[0.8600],\n",
       "         [0.8740],\n",
       "         [0.8880],\n",
       "         [0.9020],\n",
       "         [0.9160],\n",
       "         [0.9300],\n",
       "         [0.9440],\n",
       "         [0.9580],\n",
       "         [0.9720],\n",
       "         [0.9860]], device='cuda:0'))"
      ]
     },
     "execution_count": 63,
     "metadata": {},
     "output_type": "execute_result"
    }
   ],
   "source": [
    "# Make predictions with model\n",
    "with torch.inference_mode():   # inference mode doesn't keeps track of gradients and helps your code run faster\n",
    "    y_preds = model_0(X_test)\n",
    "\n",
    "\n",
    "# You can also do the same thing with torch.no_grad(), however, torch.inference_mode() is preferred\n",
    "# with torch.no_grad():\n",
    "#    y_preds = model_0(X_test)\n",
    "\n",
    "\n",
    "y_preds, Y_test"
   ]
  },
  {
   "cell_type": "code",
   "execution_count": 64,
   "metadata": {},
   "outputs": [
    {
     "data": {
      "image/png": "[encoded data removed]",
      "text/plain": [
       "<Figure size 1000x700 with 1 Axes>"
      ]
     },
     "metadata": {},
     "output_type": "display_data"
    }
   ],
   "source": [
    "plot_predictions(predictions=y_preds)"
   ]
  },
  {
   "cell_type": "markdown",
   "metadata": {},
   "source": [
    "### 3. Train model\n",
    "\n",
    "The whole idea for training is for a model to move from some *unknow* parameters (these may be random) to some *known parameters*\n",
    "\n",
    "Or in other words from a poor representation of the data to a better representation of the data. \n",
    "\n",
    "One way to measure how poor or how wrong your models predictions are is to use a loss function. https://pytorch.org/docs/stable/nn.html#loss-functions\n",
    "\n",
    "* Note: Loss function may also be called cost function or crieterion in different areas. For our care, we are going to refer to it as a loss function\n",
    "\n",
    "* **Loss function:** A function to measure how wrong your model's predictions are to the ideal outputs, lower is better\n",
    "\n",
    "* **Optimizer:** Takes into account the loss of a model and adjusts the model's parameters(e.g: weight and bias in our case) to improve the loss function https://pytorch.org/docs/stable/optim.html\n",
    "\n",
    "\n",
    "**For our problem, since we're predicting a number, let's use MAE (which is under torch.nn.L1Loss()) in PyTorch as our loss function.**\n",
    "\n",
    "* Mean absolute error (MAE, in PyTorch: torch.nn.L1Loss) measures the absolute difference between two points (predictions and labels) and then takes the mean across all examples.\n",
    "\n",
    "**And we'll use SGD, torch.optim.SGD(params, lr) where:**\n",
    "\n",
    "* *params* is the target model parameters you'd like to optimize (e.g. the weights and bias values we randomly set before).\n",
    "* *lr* is the learning rate you'd like the optimizer to update the parameters at, higher means the optimizer will try larger updates (these can sometimes be too large and the optimizer will fail to work), lower means the optimizer will try smaller updates (these can sometimes be too small and the optimizer will take too long to find the ideal values). The learning rate is considered a hyperparameter (because it's set by a machine learning engineer). Common starting values for the learning rate are 0.01, 0.001, 0.0001, however, these can also be adjusted over time (this is called learning rate scheduling).\n",
    "\n",
    "And specifically for PyTorch, we need:\n",
    "* A training loop\n",
    "* A testing loop"
   ]
  },
  {
   "cell_type": "code",
   "execution_count": 65,
   "metadata": {},
   "outputs": [
    {
     "data": {
      "text/plain": [
       "[Parameter containing:\n",
       " tensor([0.3367], device='cuda:0', requires_grad=True),\n",
       " Parameter containing:\n",
       " tensor([0.1288], device='cuda:0', requires_grad=True)]"
      ]
     },
     "execution_count": 65,
     "metadata": {},
     "output_type": "execute_result"
    }
   ],
   "source": [
    "list(model_0.parameters())"
   ]
  },
  {
   "cell_type": "code",
   "execution_count": 66,
   "metadata": {},
   "outputs": [
    {
     "data": {
      "text/plain": [
       "OrderedDict([('weights', tensor([0.3367], device='cuda:0')),\n",
       "             ('bias', tensor([0.1288], device='cuda:0'))])"
      ]
     },
     "execution_count": 66,
     "metadata": {},
     "output_type": "execute_result"
    }
   ],
   "source": [
    "# Check outs our model parameters ( a parameter is a value that a model sets itself)\n",
    "model_0.state_dict()"
   ]
  },
  {
   "cell_type": "code",
   "execution_count": 67,
   "metadata": {},
   "outputs": [],
   "source": [
    "# Setup a loss function\n",
    "loss_fn = nn.L1Loss()\n",
    "\n",
    "\n",
    "# Setup an optimizer (stochastic gradient descent )\n",
    "optimizer = torch.optim.SGD(params= model_0.parameters(), # We want to optimize the parameters present in our model\n",
    "                            lr = 0.01) # lr = learning rate = possibly the most important  hyperparameter you can set\n"
   ]
  },
  {
   "cell_type": "code",
   "execution_count": 68,
   "metadata": {},
   "outputs": [
    {
     "data": {
      "text/plain": [
       "L1Loss()"
      ]
     },
     "execution_count": 68,
     "metadata": {},
     "output_type": "execute_result"
    }
   ],
   "source": [
    "loss_fn"
   ]
  },
  {
   "cell_type": "markdown",
   "metadata": {},
   "source": [
    "### Building a training loop and a testing loop in PyTorch\n",
    "\n",
    "A couple of things we need in a training loop:\n",
    "0. Loop through the data\n",
    "1. Forward pass (this involves data moving through our model's 'forward()' functions) - also called forward propogation\n",
    "2. Calculate the loss (compare forward pass predictions to ground truth labels)\n",
    "3. Optimizer zero grad\n",
    "4. Loss backward - move backwards through the network to calculate the gradients of each of the parameters of our model with respect to the loss (**backpropagation**)\n",
    "5. Optimizer step - use the optimizer to adjust our model's parameters to try and improve the loss (**gradient descent**)"
   ]
  },
  {
   "cell_type": "code",
   "execution_count": 69,
   "metadata": {},
   "outputs": [
    {
     "name": "stdout",
     "output_type": "stream",
     "text": [
      "Epoch: 0 | Loss: 0.31288135051727295 | Test loss: 0.48106518387794495\n",
      "OrderedDict({'weights': tensor([0.3406], device='cuda:0'), 'bias': tensor([0.1388], device='cuda:0')}) \n",
      "\n",
      "OrderedDict({'weights': tensor([0.3406], device='cuda:0'), 'bias': tensor([0.1388], device='cuda:0')})\n",
      "Epoch: 10 | Loss: 0.1976713389158249 | Test loss: 0.3463551998138428\n",
      "OrderedDict({'weights': tensor([0.3796], device='cuda:0'), 'bias': tensor([0.2388], device='cuda:0')}) \n",
      "\n",
      "OrderedDict({'weights': tensor([0.3796], device='cuda:0'), 'bias': tensor([0.2388], device='cuda:0')})\n",
      "Epoch: 20 | Loss: 0.08908725529909134 | Test loss: 0.21729658544063568\n",
      "OrderedDict({'weights': tensor([0.4184], device='cuda:0'), 'bias': tensor([0.3333], device='cuda:0')}) \n",
      "\n",
      "OrderedDict({'weights': tensor([0.4184], device='cuda:0'), 'bias': tensor([0.3333], device='cuda:0')})\n",
      "Epoch: 30 | Loss: 0.0531485341489315 | Test loss: 0.14464019238948822\n",
      "OrderedDict({'weights': tensor([0.4512], device='cuda:0'), 'bias': tensor([0.3768], device='cuda:0')}) \n",
      "\n",
      "OrderedDict({'weights': tensor([0.4512], device='cuda:0'), 'bias': tensor([0.3768], device='cuda:0')})\n",
      "Epoch: 40 | Loss: 0.04543796926736832 | Test loss: 0.11360953003168106\n",
      "OrderedDict({'weights': tensor([0.4748], device='cuda:0'), 'bias': tensor([0.3868], device='cuda:0')}) \n",
      "\n",
      "OrderedDict({'weights': tensor([0.4748], device='cuda:0'), 'bias': tensor([0.3868], device='cuda:0')})\n",
      "Epoch: 50 | Loss: 0.04167863354086876 | Test loss: 0.09919948130846024\n",
      "OrderedDict({'weights': tensor([0.4938], device='cuda:0'), 'bias': tensor([0.3843], device='cuda:0')}) \n",
      "\n",
      "OrderedDict({'weights': tensor([0.4938], device='cuda:0'), 'bias': tensor([0.3843], device='cuda:0')})\n",
      "Epoch: 60 | Loss: 0.03818932920694351 | Test loss: 0.08886633068323135\n",
      "OrderedDict({'weights': tensor([0.5116], device='cuda:0'), 'bias': tensor([0.3788], device='cuda:0')}) \n",
      "\n",
      "OrderedDict({'weights': tensor([0.5116], device='cuda:0'), 'bias': tensor([0.3788], device='cuda:0')})\n",
      "Epoch: 70 | Loss: 0.03476089984178543 | Test loss: 0.0805937647819519\n",
      "OrderedDict({'weights': tensor([0.5288], device='cuda:0'), 'bias': tensor([0.3718], device='cuda:0')}) \n",
      "\n",
      "OrderedDict({'weights': tensor([0.5288], device='cuda:0'), 'bias': tensor([0.3718], device='cuda:0')})\n",
      "Epoch: 80 | Loss: 0.03132382780313492 | Test loss: 0.07232122868299484\n",
      "OrderedDict({'weights': tensor([0.5459], device='cuda:0'), 'bias': tensor([0.3648], device='cuda:0')}) \n",
      "\n",
      "OrderedDict({'weights': tensor([0.5459], device='cuda:0'), 'bias': tensor([0.3648], device='cuda:0')})\n",
      "Epoch: 90 | Loss: 0.02788739837706089 | Test loss: 0.06473556160926819\n",
      "OrderedDict({'weights': tensor([0.5629], device='cuda:0'), 'bias': tensor([0.3573], device='cuda:0')}) \n",
      "\n",
      "OrderedDict({'weights': tensor([0.5629], device='cuda:0'), 'bias': tensor([0.3573], device='cuda:0')})\n",
      "Epoch: 100 | Loss: 0.024458957836031914 | Test loss: 0.05646304413676262\n",
      "OrderedDict({'weights': tensor([0.5800], device='cuda:0'), 'bias': tensor([0.3503], device='cuda:0')}) \n",
      "\n",
      "OrderedDict({'weights': tensor([0.5800], device='cuda:0'), 'bias': tensor([0.3503], device='cuda:0')})\n",
      "Epoch: 110 | Loss: 0.021020207554101944 | Test loss: 0.04819050058722496\n",
      "OrderedDict({'weights': tensor([0.5972], device='cuda:0'), 'bias': tensor([0.3433], device='cuda:0')}) \n",
      "\n",
      "OrderedDict({'weights': tensor([0.5972], device='cuda:0'), 'bias': tensor([0.3433], device='cuda:0')})\n",
      "Epoch: 120 | Loss: 0.01758546754717827 | Test loss: 0.04060482606291771\n",
      "OrderedDict({'weights': tensor([0.6141], device='cuda:0'), 'bias': tensor([0.3358], device='cuda:0')}) \n",
      "\n",
      "OrderedDict({'weights': tensor([0.6141], device='cuda:0'), 'bias': tensor([0.3358], device='cuda:0')})\n",
      "Epoch: 130 | Loss: 0.014155394397675991 | Test loss: 0.03233227878808975\n",
      "OrderedDict({'weights': tensor([0.6313], device='cuda:0'), 'bias': tensor([0.3288], device='cuda:0')}) \n",
      "\n",
      "OrderedDict({'weights': tensor([0.6313], device='cuda:0'), 'bias': tensor([0.3288], device='cuda:0')})\n",
      "Epoch: 140 | Loss: 0.010716589167714119 | Test loss: 0.024059748277068138\n",
      "OrderedDict({'weights': tensor([0.6485], device='cuda:0'), 'bias': tensor([0.3218], device='cuda:0')}) \n",
      "\n",
      "OrderedDict({'weights': tensor([0.6485], device='cuda:0'), 'bias': tensor([0.3218], device='cuda:0')})\n",
      "Epoch: 150 | Loss: 0.0072835334576666355 | Test loss: 0.016474086791276932\n",
      "OrderedDict({'weights': tensor([0.6654], device='cuda:0'), 'bias': tensor([0.3143], device='cuda:0')}) \n",
      "\n",
      "OrderedDict({'weights': tensor([0.6654], device='cuda:0'), 'bias': tensor([0.3143], device='cuda:0')})\n",
      "Epoch: 160 | Loss: 0.003851776709780097 | Test loss: 0.008201557211577892\n",
      "OrderedDict({'weights': tensor([0.6826], device='cuda:0'), 'bias': tensor([0.3073], device='cuda:0')}) \n",
      "\n",
      "OrderedDict({'weights': tensor([0.6826], device='cuda:0'), 'bias': tensor([0.3073], device='cuda:0')})\n",
      "Epoch: 170 | Loss: 0.008932482451200485 | Test loss: 0.005023092031478882\n",
      "OrderedDict({'weights': tensor([0.6951], device='cuda:0'), 'bias': tensor([0.2993], device='cuda:0')}) \n",
      "\n",
      "OrderedDict({'weights': tensor([0.6951], device='cuda:0'), 'bias': tensor([0.2993], device='cuda:0')})\n",
      "Epoch: 180 | Loss: 0.008932482451200485 | Test loss: 0.005023092031478882\n",
      "OrderedDict({'weights': tensor([0.6951], device='cuda:0'), 'bias': tensor([0.2993], device='cuda:0')}) \n",
      "\n",
      "OrderedDict({'weights': tensor([0.6951], device='cuda:0'), 'bias': tensor([0.2993], device='cuda:0')})\n",
      "Epoch: 190 | Loss: 0.008932482451200485 | Test loss: 0.005023092031478882\n",
      "OrderedDict({'weights': tensor([0.6951], device='cuda:0'), 'bias': tensor([0.2993], device='cuda:0')}) \n",
      "\n",
      "OrderedDict({'weights': tensor([0.6951], device='cuda:0'), 'bias': tensor([0.2993], device='cuda:0')})\n"
     ]
    }
   ],
   "source": [
    "torch.manual_seed(42)\n",
    "\n",
    "\n",
    "model_0.to(device)\n",
    "\n",
    "# An epoch is one loop through the data\n",
    "epochs = 200\n",
    "\n",
    "# Track different values\n",
    "epoch_count = []\n",
    "train_loss_values = []\n",
    "test_loss_values = []\n",
    "\n",
    "# 0. Loop through the data\n",
    "for epoch in range(epochs):\n",
    "    # set the model to the training mode\n",
    "    \n",
    "    model_0.train() # train mode in Pytorch sets all parameters that require gradients to require gradients\n",
    "\n",
    "    # 1. Forward pass\n",
    "    y_pred = model_0(X_train)\n",
    "\n",
    "    # 2. Calculate the loss\n",
    "    loss = loss_fn(y_pred, Y_train)\n",
    "    \n",
    "\n",
    "    # 3. Optimizer zero grad\n",
    "    optimizer.zero_grad()\n",
    "\n",
    "    # 4. Perform backpropogation on the loss with respect to the parameters of the model\n",
    "    loss.backward()\n",
    "\n",
    "    # 5. Step the optimizer (perform gradient descent)      \n",
    "    optimizer.step() # by default how the optimizer changes will accumulate through the loop so... we have to zero them above step 3 for the next iteration of the loop \n",
    "\n",
    "    ### Testing\n",
    "    model_0.eval() # turns off gradient tracking / turns off different settings in the model not needed for evaluation / testing (dropout / batch norm layers)\n",
    "\n",
    "    with torch.inference_mode():\n",
    "\n",
    "      #1. do forward pass\n",
    "      test_pred = model_0(X_test)\n",
    "\n",
    "      #2. Calculate the loss\n",
    "      test_loss = loss_fn(test_pred, Y_test)\n",
    "\n",
    "    # Print out what's happening\n",
    "    if epoch % 10 == 0:\n",
    "      epoch_count.append(epoch)\n",
    "      train_loss_values.append(loss)\n",
    "      test_loss_values.append(test_loss)\n",
    "\n",
    "      print(f\"Epoch: {epoch} | Loss: {loss} | Test loss: {test_loss}\")\n",
    "    \n",
    "      print(model_0.state_dict(), \"\\n\")\n",
    "    \n",
    "      print(model_0.state_dict())\n"
   ]
  },
  {
   "cell_type": "code",
   "execution_count": 70,
   "metadata": {},
   "outputs": [
    {
     "data": {
      "image/png": "[encoded data removed]",
      "text/plain": [
       "<Figure size 1000x700 with 1 Axes>"
      ]
     },
     "metadata": {},
     "output_type": "display_data"
    }
   ],
   "source": [
    "with torch.inference_mode():\n",
    "    y_preds_new = model_0(X_test)\n",
    "\n",
    "plot_predictions(predictions=y_preds_new)"
   ]
  },
  {
   "cell_type": "code",
   "execution_count": 71,
   "metadata": {},
   "outputs": [
    {
     "data": {
      "text/plain": [
       "(0.7, 0.3)"
      ]
     },
     "execution_count": 71,
     "metadata": {},
     "output_type": "execute_result"
    }
   ],
   "source": [
    "weight, bias"
   ]
  },
  {
   "cell_type": "code",
   "execution_count": 72,
   "metadata": {},
   "outputs": [
    {
     "ename": "TypeError",
     "evalue": "can't convert cuda:0 device type tensor to numpy. Use Tensor.cpu() to copy the tensor to host memory first.",
     "output_type": "error",
     "traceback": [
      "\u001b[0;31m---------------------------------------------------------------------------\u001b[0m",
      "\u001b[0;31mTypeError\u001b[0m                                 Traceback (most recent call last)",
      "Cell \u001b[0;32mIn[72], line 2\u001b[0m\n\u001b[1;32m      1\u001b[0m \u001b[38;5;66;03m# Plot the loss curves\u001b[39;00m\n\u001b[0;32m----> 2\u001b[0m \u001b[43mplt\u001b[49m\u001b[38;5;241;43m.\u001b[39;49m\u001b[43mplot\u001b[49m\u001b[43m(\u001b[49m\u001b[43mepoch_count\u001b[49m\u001b[43m,\u001b[49m\u001b[43m \u001b[49m\u001b[43mtrain_loss_values\u001b[49m\u001b[43m,\u001b[49m\u001b[43m \u001b[49m\u001b[43mlabel\u001b[49m\u001b[43m \u001b[49m\u001b[38;5;241;43m=\u001b[39;49m\u001b[43m \u001b[49m\u001b[38;5;124;43m\"\u001b[39;49m\u001b[38;5;124;43mTrain loss\u001b[39;49m\u001b[38;5;124;43m\"\u001b[39;49m\u001b[43m)\u001b[49m\n\u001b[1;32m      3\u001b[0m plt\u001b[38;5;241m.\u001b[39mplot(epoch_count, test_loss_values, label \u001b[38;5;241m=\u001b[39m \u001b[38;5;124m\"\u001b[39m\u001b[38;5;124mTest loss\u001b[39m\u001b[38;5;124m\"\u001b[39m)\n\u001b[1;32m      4\u001b[0m plt\u001b[38;5;241m.\u001b[39mtitle(\u001b[38;5;124m\"\u001b[39m\u001b[38;5;124mtraining and testing loss curves\u001b[39m\u001b[38;5;124m\"\u001b[39m)\n",
      "File \u001b[0;32m~/miniconda3/envs/learning/lib/python3.12/site-packages/matplotlib/pyplot.py:3590\u001b[0m, in \u001b[0;36mplot\u001b[0;34m(scalex, scaley, data, *args, **kwargs)\u001b[0m\n\u001b[1;32m   3582\u001b[0m \u001b[38;5;129m@_copy_docstring_and_deprecators\u001b[39m(Axes\u001b[38;5;241m.\u001b[39mplot)\n\u001b[1;32m   3583\u001b[0m \u001b[38;5;28;01mdef\u001b[39;00m \u001b[38;5;21mplot\u001b[39m(\n\u001b[1;32m   3584\u001b[0m     \u001b[38;5;241m*\u001b[39margs: \u001b[38;5;28mfloat\u001b[39m \u001b[38;5;241m|\u001b[39m ArrayLike \u001b[38;5;241m|\u001b[39m \u001b[38;5;28mstr\u001b[39m,\n\u001b[0;32m   (...)\u001b[0m\n\u001b[1;32m   3588\u001b[0m     \u001b[38;5;241m*\u001b[39m\u001b[38;5;241m*\u001b[39mkwargs,\n\u001b[1;32m   3589\u001b[0m ) \u001b[38;5;241m-\u001b[39m\u001b[38;5;241m>\u001b[39m \u001b[38;5;28mlist\u001b[39m[Line2D]:\n\u001b[0;32m-> 3590\u001b[0m     \u001b[38;5;28;01mreturn\u001b[39;00m \u001b[43mgca\u001b[49m\u001b[43m(\u001b[49m\u001b[43m)\u001b[49m\u001b[38;5;241;43m.\u001b[39;49m\u001b[43mplot\u001b[49m\u001b[43m(\u001b[49m\n\u001b[1;32m   3591\u001b[0m \u001b[43m        \u001b[49m\u001b[38;5;241;43m*\u001b[39;49m\u001b[43margs\u001b[49m\u001b[43m,\u001b[49m\n\u001b[1;32m   3592\u001b[0m \u001b[43m        \u001b[49m\u001b[43mscalex\u001b[49m\u001b[38;5;241;43m=\u001b[39;49m\u001b[43mscalex\u001b[49m\u001b[43m,\u001b[49m\n\u001b[1;32m   3593\u001b[0m \u001b[43m        \u001b[49m\u001b[43mscaley\u001b[49m\u001b[38;5;241;43m=\u001b[39;49m\u001b[43mscaley\u001b[49m\u001b[43m,\u001b[49m\n\u001b[1;32m   3594\u001b[0m \u001b[43m        \u001b[49m\u001b[38;5;241;43m*\u001b[39;49m\u001b[38;5;241;43m*\u001b[39;49m\u001b[43m(\u001b[49m\u001b[43m{\u001b[49m\u001b[38;5;124;43m\"\u001b[39;49m\u001b[38;5;124;43mdata\u001b[39;49m\u001b[38;5;124;43m\"\u001b[39;49m\u001b[43m:\u001b[49m\u001b[43m \u001b[49m\u001b[43mdata\u001b[49m\u001b[43m}\u001b[49m\u001b[43m \u001b[49m\u001b[38;5;28;43;01mif\u001b[39;49;00m\u001b[43m \u001b[49m\u001b[43mdata\u001b[49m\u001b[43m \u001b[49m\u001b[38;5;129;43;01mis\u001b[39;49;00m\u001b[43m \u001b[49m\u001b[38;5;129;43;01mnot\u001b[39;49;00m\u001b[43m \u001b[49m\u001b[38;5;28;43;01mNone\u001b[39;49;00m\u001b[43m \u001b[49m\u001b[38;5;28;43;01melse\u001b[39;49;00m\u001b[43m \u001b[49m\u001b[43m{\u001b[49m\u001b[43m}\u001b[49m\u001b[43m)\u001b[49m\u001b[43m,\u001b[49m\n\u001b[1;32m   3595\u001b[0m \u001b[43m        \u001b[49m\u001b[38;5;241;43m*\u001b[39;49m\u001b[38;5;241;43m*\u001b[39;49m\u001b[43mkwargs\u001b[49m\u001b[43m,\u001b[49m\n\u001b[1;32m   3596\u001b[0m \u001b[43m    \u001b[49m\u001b[43m)\u001b[49m\n",
      "File \u001b[0;32m~/miniconda3/envs/learning/lib/python3.12/site-packages/matplotlib/axes/_axes.py:1724\u001b[0m, in \u001b[0;36mAxes.plot\u001b[0;34m(self, scalex, scaley, data, *args, **kwargs)\u001b[0m\n\u001b[1;32m   1481\u001b[0m \u001b[38;5;250m\u001b[39m\u001b[38;5;124;03m\"\"\"\u001b[39;00m\n\u001b[1;32m   1482\u001b[0m \u001b[38;5;124;03mPlot y versus x as lines and/or markers.\u001b[39;00m\n\u001b[1;32m   1483\u001b[0m \n\u001b[0;32m   (...)\u001b[0m\n\u001b[1;32m   1721\u001b[0m \u001b[38;5;124;03m(``'green'``) or hex strings (``'#008000'``).\u001b[39;00m\n\u001b[1;32m   1722\u001b[0m \u001b[38;5;124;03m\"\"\"\u001b[39;00m\n\u001b[1;32m   1723\u001b[0m kwargs \u001b[38;5;241m=\u001b[39m cbook\u001b[38;5;241m.\u001b[39mnormalize_kwargs(kwargs, mlines\u001b[38;5;241m.\u001b[39mLine2D)\n\u001b[0;32m-> 1724\u001b[0m lines \u001b[38;5;241m=\u001b[39m [\u001b[38;5;241m*\u001b[39m\u001b[38;5;28mself\u001b[39m\u001b[38;5;241m.\u001b[39m_get_lines(\u001b[38;5;28mself\u001b[39m, \u001b[38;5;241m*\u001b[39margs, data\u001b[38;5;241m=\u001b[39mdata, \u001b[38;5;241m*\u001b[39m\u001b[38;5;241m*\u001b[39mkwargs)]\n\u001b[1;32m   1725\u001b[0m \u001b[38;5;28;01mfor\u001b[39;00m line \u001b[38;5;129;01min\u001b[39;00m lines:\n\u001b[1;32m   1726\u001b[0m     \u001b[38;5;28mself\u001b[39m\u001b[38;5;241m.\u001b[39madd_line(line)\n",
      "File \u001b[0;32m~/miniconda3/envs/learning/lib/python3.12/site-packages/matplotlib/axes/_base.py:303\u001b[0m, in \u001b[0;36m_process_plot_var_args.__call__\u001b[0;34m(self, axes, data, *args, **kwargs)\u001b[0m\n\u001b[1;32m    301\u001b[0m     this \u001b[38;5;241m+\u001b[39m\u001b[38;5;241m=\u001b[39m args[\u001b[38;5;241m0\u001b[39m],\n\u001b[1;32m    302\u001b[0m     args \u001b[38;5;241m=\u001b[39m args[\u001b[38;5;241m1\u001b[39m:]\n\u001b[0;32m--> 303\u001b[0m \u001b[38;5;28;01myield from\u001b[39;00m \u001b[38;5;28;43mself\u001b[39;49m\u001b[38;5;241;43m.\u001b[39;49m\u001b[43m_plot_args\u001b[49m\u001b[43m(\u001b[49m\n\u001b[1;32m    304\u001b[0m \u001b[43m    \u001b[49m\u001b[43maxes\u001b[49m\u001b[43m,\u001b[49m\u001b[43m \u001b[49m\u001b[43mthis\u001b[49m\u001b[43m,\u001b[49m\u001b[43m \u001b[49m\u001b[43mkwargs\u001b[49m\u001b[43m,\u001b[49m\u001b[43m \u001b[49m\u001b[43mambiguous_fmt_datakey\u001b[49m\u001b[38;5;241;43m=\u001b[39;49m\u001b[43mambiguous_fmt_datakey\u001b[49m\u001b[43m)\u001b[49m\n",
      "File \u001b[0;32m~/miniconda3/envs/learning/lib/python3.12/site-packages/matplotlib/axes/_base.py:489\u001b[0m, in \u001b[0;36m_process_plot_var_args._plot_args\u001b[0;34m(self, axes, tup, kwargs, return_kwargs, ambiguous_fmt_datakey)\u001b[0m\n\u001b[1;32m    487\u001b[0m \u001b[38;5;28;01mif\u001b[39;00m \u001b[38;5;28mlen\u001b[39m(xy) \u001b[38;5;241m==\u001b[39m \u001b[38;5;241m2\u001b[39m:\n\u001b[1;32m    488\u001b[0m     x \u001b[38;5;241m=\u001b[39m _check_1d(xy[\u001b[38;5;241m0\u001b[39m])\n\u001b[0;32m--> 489\u001b[0m     y \u001b[38;5;241m=\u001b[39m \u001b[43m_check_1d\u001b[49m\u001b[43m(\u001b[49m\u001b[43mxy\u001b[49m\u001b[43m[\u001b[49m\u001b[38;5;241;43m1\u001b[39;49m\u001b[43m]\u001b[49m\u001b[43m)\u001b[49m\n\u001b[1;32m    490\u001b[0m \u001b[38;5;28;01melse\u001b[39;00m:\n\u001b[1;32m    491\u001b[0m     x, y \u001b[38;5;241m=\u001b[39m index_of(xy[\u001b[38;5;241m-\u001b[39m\u001b[38;5;241m1\u001b[39m])\n",
      "File \u001b[0;32m~/miniconda3/envs/learning/lib/python3.12/site-packages/matplotlib/cbook.py:1358\u001b[0m, in \u001b[0;36m_check_1d\u001b[0;34m(x)\u001b[0m\n\u001b[1;32m   1352\u001b[0m \u001b[38;5;66;03m# plot requires `shape` and `ndim`.  If passed an\u001b[39;00m\n\u001b[1;32m   1353\u001b[0m \u001b[38;5;66;03m# object that doesn't provide them, then force to numpy array.\u001b[39;00m\n\u001b[1;32m   1354\u001b[0m \u001b[38;5;66;03m# Note this will strip unit information.\u001b[39;00m\n\u001b[1;32m   1355\u001b[0m \u001b[38;5;28;01mif\u001b[39;00m (\u001b[38;5;129;01mnot\u001b[39;00m \u001b[38;5;28mhasattr\u001b[39m(x, \u001b[38;5;124m'\u001b[39m\u001b[38;5;124mshape\u001b[39m\u001b[38;5;124m'\u001b[39m) \u001b[38;5;129;01mor\u001b[39;00m\n\u001b[1;32m   1356\u001b[0m         \u001b[38;5;129;01mnot\u001b[39;00m \u001b[38;5;28mhasattr\u001b[39m(x, \u001b[38;5;124m'\u001b[39m\u001b[38;5;124mndim\u001b[39m\u001b[38;5;124m'\u001b[39m) \u001b[38;5;129;01mor\u001b[39;00m\n\u001b[1;32m   1357\u001b[0m         \u001b[38;5;28mlen\u001b[39m(x\u001b[38;5;241m.\u001b[39mshape) \u001b[38;5;241m<\u001b[39m \u001b[38;5;241m1\u001b[39m):\n\u001b[0;32m-> 1358\u001b[0m     \u001b[38;5;28;01mreturn\u001b[39;00m \u001b[43mnp\u001b[49m\u001b[38;5;241;43m.\u001b[39;49m\u001b[43matleast_1d\u001b[49m\u001b[43m(\u001b[49m\u001b[43mx\u001b[49m\u001b[43m)\u001b[49m\n\u001b[1;32m   1359\u001b[0m \u001b[38;5;28;01melse\u001b[39;00m:\n\u001b[1;32m   1360\u001b[0m     \u001b[38;5;28;01mreturn\u001b[39;00m x\n",
      "File \u001b[0;32m~/miniconda3/envs/learning/lib/python3.12/site-packages/numpy/core/shape_base.py:65\u001b[0m, in \u001b[0;36matleast_1d\u001b[0;34m(*arys)\u001b[0m\n\u001b[1;32m     63\u001b[0m res \u001b[38;5;241m=\u001b[39m []\n\u001b[1;32m     64\u001b[0m \u001b[38;5;28;01mfor\u001b[39;00m ary \u001b[38;5;129;01min\u001b[39;00m arys:\n\u001b[0;32m---> 65\u001b[0m     ary \u001b[38;5;241m=\u001b[39m \u001b[43masanyarray\u001b[49m\u001b[43m(\u001b[49m\u001b[43mary\u001b[49m\u001b[43m)\u001b[49m\n\u001b[1;32m     66\u001b[0m     \u001b[38;5;28;01mif\u001b[39;00m ary\u001b[38;5;241m.\u001b[39mndim \u001b[38;5;241m==\u001b[39m \u001b[38;5;241m0\u001b[39m:\n\u001b[1;32m     67\u001b[0m         result \u001b[38;5;241m=\u001b[39m ary\u001b[38;5;241m.\u001b[39mreshape(\u001b[38;5;241m1\u001b[39m)\n",
      "File \u001b[0;32m~/miniconda3/envs/learning/lib/python3.12/site-packages/torch/_tensor.py:1087\u001b[0m, in \u001b[0;36mTensor.__array__\u001b[0;34m(self, dtype)\u001b[0m\n\u001b[1;32m   1085\u001b[0m     \u001b[38;5;28;01mreturn\u001b[39;00m handle_torch_function(Tensor\u001b[38;5;241m.\u001b[39m__array__, (\u001b[38;5;28mself\u001b[39m,), \u001b[38;5;28mself\u001b[39m, dtype\u001b[38;5;241m=\u001b[39mdtype)\n\u001b[1;32m   1086\u001b[0m \u001b[38;5;28;01mif\u001b[39;00m dtype \u001b[38;5;129;01mis\u001b[39;00m \u001b[38;5;28;01mNone\u001b[39;00m:\n\u001b[0;32m-> 1087\u001b[0m     \u001b[38;5;28;01mreturn\u001b[39;00m \u001b[38;5;28;43mself\u001b[39;49m\u001b[38;5;241;43m.\u001b[39;49m\u001b[43mnumpy\u001b[49m\u001b[43m(\u001b[49m\u001b[43m)\u001b[49m\n\u001b[1;32m   1088\u001b[0m \u001b[38;5;28;01melse\u001b[39;00m:\n\u001b[1;32m   1089\u001b[0m     \u001b[38;5;28;01mreturn\u001b[39;00m \u001b[38;5;28mself\u001b[39m\u001b[38;5;241m.\u001b[39mnumpy()\u001b[38;5;241m.\u001b[39mastype(dtype, copy\u001b[38;5;241m=\u001b[39m\u001b[38;5;28;01mFalse\u001b[39;00m)\n",
      "\u001b[0;31mTypeError\u001b[0m: can't convert cuda:0 device type tensor to numpy. Use Tensor.cpu() to copy the tensor to host memory first."
     ]
    },
    {
     "data": {
      "image/png": "[encoded data removed]",
      "text/plain": [
       "<Figure size 640x480 with 1 Axes>"
      ]
     },
     "metadata": {},
     "output_type": "display_data"
    }
   ],
   "source": [
    "# Plot the loss curves\n",
    "plt.plot(epoch_count, train_loss_values, label = \"Train loss\")\n",
    "plt.plot(epoch_count, test_loss_values, label = \"Test loss\")\n",
    "plt.title(\"training and testing loss curves\")\n",
    "plt.x_label(\"Epochs\")\n",
    "plt.ylabel(\"Loss\")\n",
    "plt.legend();"
   ]
  },
  {
   "cell_type": "code",
   "execution_count": null,
   "metadata": {},
   "outputs": [],
   "source": []
  },
  {
   "cell_type": "code",
   "execution_count": 73,
   "metadata": {},
   "outputs": [
    {
     "data": {
      "image/png": "[encoded data removed]",
      "text/plain": [
       "<Figure size 640x480 with 1 Axes>"
      ]
     },
     "metadata": {},
     "output_type": "display_data"
    }
   ],
   "source": [
    "import numpy as np\n",
    "# Plot the loss curves\n",
    "plt.plot(epoch_count, np.array(torch.tensor(train_loss_values).cpu().numpy()), label = \"Train loss\")\n",
    "plt.plot(epoch_count, torch.tensor(test_loss_values).cpu(), label = \"Test loss\")\n",
    "plt.title(\"training and testing loss curves\")\n",
    "plt.xlabel(\"Epochs\")\n",
    "plt.ylabel(\"Loss\")\n",
    "plt.legend();"
   ]
  },
  {
   "cell_type": "markdown",
   "metadata": {},
   "source": [
    "### Saving a model in Pytorch\n",
    "\n",
    "There are three main methods you should know about for saving and loading models in PyTorch.\n",
    "\n",
    "1. 'torch.save()' - allows you to save a PyTorch object in Python's pickle format\n",
    "2. 'torch.load()' - allows you load a saved PyTorch object \n",
    "3. 'torch.nn.Module.load_state_dict()' - this allows you to load a model's saved state dictionary\n",
    "https://pytorch.org/tutorials/beginner/saving_loading_models.html"
   ]
  },
  {
   "cell_type": "code",
   "execution_count": 74,
   "metadata": {},
   "outputs": [
    {
     "data": {
      "text/plain": [
       "OrderedDict([('weights', tensor([0.6990], device='cuda:0')),\n",
       "             ('bias', tensor([0.3093], device='cuda:0'))])"
      ]
     },
     "execution_count": 74,
     "metadata": {},
     "output_type": "execute_result"
    }
   ],
   "source": [
    "model_0.state_dict()"
   ]
  },
  {
   "cell_type": "code",
   "execution_count": 75,
   "metadata": {},
   "outputs": [
    {
     "name": "stdout",
     "output_type": "stream",
     "text": [
      "Saving model to: models/01_pytorch_workflow_model_0.pth\n"
     ]
    }
   ],
   "source": [
    "# Saving our PyTorch model\n",
    "from pathlib import Path\n",
    "\n",
    "#1. Create models directory\n",
    "MODEL_PATH = Path(\"models\")\n",
    "MODEL_PATH.mkdir(parents=True, exist_ok=True)\n",
    "\n",
    "#2. Create model save path\n",
    "MODEL_NAME = \"01_pytorch_workflow_model_0.pth\"\n",
    "MODEL_SAVE_PATH = MODEL_PATH / MODEL_NAME\n",
    "\n",
    "#3. Save the model state dict\n",
    "print(f\"Saving model to: {MODEL_SAVE_PATH}\")\n",
    "torch.save(obj=model_0.state_dict(),\n",
    "           f= MODEL_SAVE_PATH)"
   ]
  },
  {
   "cell_type": "markdown",
   "metadata": {},
   "source": [
    "### Loading a pytorch model\n",
    "\n",
    "Since we saved our model's 'state_dict()' rather than the entire model, we'll create a new instance of our model class and load the saved 'state_dict()' into that"
   ]
  },
  {
   "cell_type": "code",
   "execution_count": 76,
   "metadata": {},
   "outputs": [
    {
     "data": {
      "text/plain": [
       "OrderedDict([('weights', tensor([0.6990])), ('bias', tensor([0.3093]))])"
      ]
     },
     "execution_count": 76,
     "metadata": {},
     "output_type": "execute_result"
    }
   ],
   "source": [
    "# To load a saved state_dict, we have to instantiate a new instance of our model class\n",
    "loaded_model_0 = LinearRegressionModel()\n",
    "\n",
    "# Load the saved state_dict of model_0 (this will update the new instance with updated parameters)\n",
    "loaded_model_0.load_state_dict(torch.load(f = MODEL_SAVE_PATH))\n",
    "\n",
    "loaded_model_0.state_dict()"
   ]
  },
  {
   "cell_type": "code",
   "execution_count": 78,
   "metadata": {},
   "outputs": [
    {
     "data": {
      "text/plain": [
       "tensor([[0.8685],\n",
       "        [0.8825],\n",
       "        [0.8965],\n",
       "        [0.9105],\n",
       "        [0.9245],\n",
       "        [0.9384],\n",
       "        [0.9524],\n",
       "        [0.9664],\n",
       "        [0.9804],\n",
       "        [0.9944]], device='cuda:0')"
      ]
     },
     "execution_count": 78,
     "metadata": {},
     "output_type": "execute_result"
    }
   ],
   "source": [
    "### Make some predictions with our loaded model\n",
    "loaded_model_0.to(device)\n",
    "loaded_model_0.eval()\n",
    "with torch.inference_mode():\n",
    "    loaded_model_preds = loaded_model_0(X_test)\n",
    "\n",
    "loaded_model_preds"
   ]
  },
  {
   "cell_type": "code",
   "execution_count": 80,
   "metadata": {},
   "outputs": [
    {
     "data": {
      "text/plain": [
       "tensor([[0.8685],\n",
       "        [0.8825],\n",
       "        [0.8965],\n",
       "        [0.9105],\n",
       "        [0.9245],\n",
       "        [0.9384],\n",
       "        [0.9524],\n",
       "        [0.9664],\n",
       "        [0.9804],\n",
       "        [0.9944]], device='cuda:0')"
      ]
     },
     "execution_count": 80,
     "metadata": {},
     "output_type": "execute_result"
    }
   ],
   "source": [
    "model_0.eval()\n",
    "with torch.inference_mode():\n",
    "    y_preds = model_0(X_test)\n",
    "\n",
    "y_preds"
   ]
  },
  {
   "cell_type": "code",
   "execution_count": 81,
   "metadata": {},
   "outputs": [
    {
     "data": {
      "text/plain": [
       "tensor([[True],\n",
       "        [True],\n",
       "        [True],\n",
       "        [True],\n",
       "        [True],\n",
       "        [True],\n",
       "        [True],\n",
       "        [True],\n",
       "        [True],\n",
       "        [True]], device='cuda:0')"
      ]
     },
     "execution_count": 81,
     "metadata": {},
     "output_type": "execute_result"
    }
   ],
   "source": [
    "# Compare loaded model preds with original model preds\n",
    "y_preds == loaded_model_preds"
   ]
  },
  {
   "cell_type": "markdown",
   "metadata": {},
   "source": [
    "### Putting it all together\n",
    "Let's go back through the steps above and see it all in once"
   ]
  },
  {
   "cell_type": "code",
   "execution_count": 3,
   "metadata": {},
   "outputs": [
    {
     "data": {
      "text/plain": [
       "'2.3.1'"
      ]
     },
     "execution_count": 3,
     "metadata": {},
     "output_type": "execute_result"
    }
   ],
   "source": [
    "# import pytorch and matplotlib\n",
    "import torch\n",
    "from torch import nn\n",
    "import matplotlib.pyplot as plt\n",
    "\n",
    "torch.__version__"
   ]
  },
  {
   "cell_type": "markdown",
   "metadata": {},
   "source": [
    "Create device agnostic code"
   ]
  },
  {
   "cell_type": "code",
   "execution_count": 4,
   "metadata": {},
   "outputs": [
    {
     "name": "stdout",
     "output_type": "stream",
     "text": [
      "Using device: cuda\n"
     ]
    }
   ],
   "source": [
    "device = 'cuda' if torch.cuda.is_available else \"cpu\"\n",
    "print(f\"Using device: {device}\")"
   ]
  },
  {
   "cell_type": "markdown",
   "metadata": {},
   "source": [
    "### 1. Data"
   ]
  },
  {
   "cell_type": "code",
   "execution_count": 5,
   "metadata": {},
   "outputs": [
    {
     "data": {
      "text/plain": [
       "(tensor([[0.0000],\n",
       "         [0.0200],\n",
       "         [0.0400],\n",
       "         [0.0600],\n",
       "         [0.0800],\n",
       "         [0.1000],\n",
       "         [0.1200],\n",
       "         [0.1400],\n",
       "         [0.1600],\n",
       "         [0.1800]]),\n",
       " tensor([[0.3000],\n",
       "         [0.3140],\n",
       "         [0.3280],\n",
       "         [0.3420],\n",
       "         [0.3560],\n",
       "         [0.3700],\n",
       "         [0.3840],\n",
       "         [0.3980],\n",
       "         [0.4120],\n",
       "         [0.4260]]))"
      ]
     },
     "execution_count": 5,
     "metadata": {},
     "output_type": "execute_result"
    }
   ],
   "source": [
    "# Create some data using the linear regression formula using y = weight * X + bias\n",
    "weight = 0.7\n",
    "bias = 0.3\n",
    "\n",
    "# Create range value\n",
    "start = 0\n",
    "end = 1\n",
    "step = 0.02\n",
    "\n",
    "# Create x and y (features and labels)\n",
    "X = torch.arange(start, end, step).unsqueeze(dim=1)\n",
    "y = weight * X + bias\n",
    "\n",
    "X[ : 10], y[ : 10]"
   ]
  },
  {
   "cell_type": "code",
   "execution_count": 6,
   "metadata": {},
   "outputs": [
    {
     "data": {
      "text/plain": [
       "(40, 40, 10, 10)"
      ]
     },
     "execution_count": 6,
     "metadata": {},
     "output_type": "execute_result"
    }
   ],
   "source": [
    "# Split data\n",
    "train_split = int(0.8 * len(X))\n",
    "\n",
    "X_train, Y_train, X_test, Y_test = X[:train_split], y[:train_split], X[train_split : ], y[train_split : ]\n",
    "\n",
    "len(X_train), len(Y_train), len(X_test), len(Y_test)"
   ]
  },
  {
   "cell_type": "markdown",
   "metadata": {},
   "source": [
    "### 2. Building a model"
   ]
  },
  {
   "cell_type": "code",
   "execution_count": 7,
   "metadata": {},
   "outputs": [
    {
     "data": {
      "text/plain": [
       "(LinearRegressionModelV2(\n",
       "   (linear_layer): Linear(in_features=1, out_features=1, bias=True)\n",
       " ),\n",
       " OrderedDict([('linear_layer.weight', tensor([[0.7645]])),\n",
       "              ('linear_layer.bias', tensor([0.8300]))]))"
      ]
     },
     "execution_count": 7,
     "metadata": {},
     "output_type": "execute_result"
    }
   ],
   "source": [
    "\n",
    "class LinearRegressionModelV2(nn.Module):\n",
    "\n",
    "    def __init__(self) :\n",
    "        super().__init__()\n",
    "\n",
    "        # Use nn.Linear() for creating model parameters / also called: linear transform, probing layer, fully connected layer, dense layer\n",
    "        self.linear_layer = nn.Linear(in_features= 1, out_features= 1)\n",
    "\n",
    "\n",
    "    def forward(self, x : torch.tensor) -> torch.tensor :\n",
    "        return self.linear_layer(x)\n",
    "    \n",
    "torch.manual_seed(42)\n",
    "\n",
    "model_1 = LinearRegressionModelV2()\n",
    "model_1, model_1.state_dict()"
   ]
  },
  {
   "cell_type": "code",
   "execution_count": 8,
   "metadata": {},
   "outputs": [
    {
     "data": {
      "text/plain": [
       "device(type='cuda', index=0)"
      ]
     },
     "execution_count": 8,
     "metadata": {},
     "output_type": "execute_result"
    }
   ],
   "source": [
    "# set the model to use the target device\n",
    "model_1.to(device)\n",
    "next(model_1.parameters()).device"
   ]
  },
  {
   "cell_type": "markdown",
   "metadata": {},
   "source": [
    "### 3. Training our model"
   ]
  },
  {
   "cell_type": "code",
   "execution_count": 9,
   "metadata": {},
   "outputs": [
    {
     "name": "stdout",
     "output_type": "stream",
     "text": [
      "Epoch: 0 | Loss: 0.5551779866218567 | Test loss: 0.5739762187004089\n",
      "Epoch: 10 | Loss: 0.439968079328537 | Test loss: 0.4392664134502411\n",
      "Epoch: 20 | Loss: 0.3247582018375397 | Test loss: 0.30455657839775085\n",
      "Epoch: 30 | Loss: 0.20954833924770355 | Test loss: 0.16984669864177704\n",
      "Epoch: 40 | Loss: 0.09433845430612564 | Test loss: 0.03513690456748009\n",
      "Epoch: 50 | Loss: 0.023886388167738914 | Test loss: 0.04784907028079033\n",
      "Epoch: 60 | Loss: 0.019956795498728752 | Test loss: 0.045803118497133255\n",
      "Epoch: 70 | Loss: 0.016517987474799156 | Test loss: 0.037530567497015\n",
      "Epoch: 80 | Loss: 0.013089174404740334 | Test loss: 0.02994490973651409\n",
      "Epoch: 90 | Loss: 0.009653178043663502 | Test loss: 0.02167237363755703\n",
      "Epoch: 100 | Loss: 0.006215683650225401 | Test loss: 0.014086711220443249\n",
      "Epoch: 110 | Loss: 0.00278724217787385 | Test loss: 0.005814164876937866\n",
      "Epoch: 120 | Loss: 0.0012645035749301314 | Test loss: 0.013801801018416882\n",
      "Epoch: 130 | Loss: 0.0012645035749301314 | Test loss: 0.013801801018416882\n",
      "Epoch: 140 | Loss: 0.0012645035749301314 | Test loss: 0.013801801018416882\n",
      "Epoch: 150 | Loss: 0.0012645035749301314 | Test loss: 0.013801801018416882\n",
      "Epoch: 160 | Loss: 0.0012645035749301314 | Test loss: 0.013801801018416882\n",
      "Epoch: 170 | Loss: 0.0012645035749301314 | Test loss: 0.013801801018416882\n",
      "Epoch: 180 | Loss: 0.0012645035749301314 | Test loss: 0.013801801018416882\n",
      "Epoch: 190 | Loss: 0.0012645035749301314 | Test loss: 0.013801801018416882\n"
     ]
    }
   ],
   "source": [
    "# Setup loss function\n",
    "loss_fn = nn.L1Loss()\n",
    "\n",
    "# Setup our optimizer\n",
    "optimizer = torch.optim.SGD(params= model_1.parameters(),lr = 0.01)\n",
    "\n",
    "# Training loop\n",
    "torch.manual_seed(42)\n",
    "\n",
    "epochs= 200\n",
    "\n",
    "# Put data on target device\n",
    "X_train = X_train.to(device)\n",
    "X_test = X_test.to(device)\n",
    "Y_train = Y_train.to(device)\n",
    "Y_test = Y_test.to(device)\n",
    "\n",
    "\n",
    "for epoch in range(epochs):\n",
    "    model_1.train()\n",
    "\n",
    "    #1. Forward pass\n",
    "    y_pred = model_1(X_train)\n",
    "\n",
    "\n",
    "    #2. Calculate the loss\n",
    "    loss = loss_fn(y_pred, Y_train)\n",
    "\n",
    "    #3. Optimizer zero grad\n",
    "    optimizer.zero_grad()\n",
    "\n",
    "    #4. Perform backpropagation\n",
    "    loss.backward()\n",
    "\n",
    "    #5. Optimizer step\n",
    "    optimizer.step()\n",
    "\n",
    "\n",
    "    ### Testing\n",
    "    model_1.eval()\n",
    "    with torch.inference_mode():\n",
    "        test_pred = model_1(X_test)\n",
    "\n",
    "        test_loss = loss_fn(test_pred, Y_test)\n",
    "\n",
    "    \n",
    "    #print out what's happening\n",
    "    if epoch%10 == 0:\n",
    "        print(f\"Epoch: {epoch} | Loss: {loss} | Test loss: {test_loss}\")\n",
    "\n"
   ]
  },
  {
   "cell_type": "code",
   "execution_count": 10,
   "metadata": {},
   "outputs": [
    {
     "data": {
      "text/plain": [
       "OrderedDict([('linear_layer.weight', tensor([[0.6968]], device='cuda:0')),\n",
       "             ('linear_layer.bias', tensor([0.3025], device='cuda:0'))])"
      ]
     },
     "execution_count": 10,
     "metadata": {},
     "output_type": "execute_result"
    }
   ],
   "source": [
    "model_1.state_dict()"
   ]
  },
  {
   "cell_type": "markdown",
   "metadata": {},
   "source": [
    "### 4. Making and evaluating predictions"
   ]
  },
  {
   "cell_type": "code",
   "execution_count": null,
   "metadata": {},
   "outputs": [],
   "source": []
  },
  {
   "cell_type": "code",
   "execution_count": 18,
   "metadata": {},
   "outputs": [
    {
     "data": {
      "text/plain": [
       "(tensor([[0.8600],\n",
       "         [0.8739],\n",
       "         [0.8878],\n",
       "         [0.9018],\n",
       "         [0.9157],\n",
       "         [0.9296],\n",
       "         [0.9436],\n",
       "         [0.9575],\n",
       "         [0.9714],\n",
       "         [0.9854]], device='cuda:0'),\n",
       " tensor([[0.8600],\n",
       "         [0.8740],\n",
       "         [0.8880],\n",
       "         [0.9020],\n",
       "         [0.9160],\n",
       "         [0.9300],\n",
       "         [0.9440],\n",
       "         [0.9580],\n",
       "         [0.9720],\n",
       "         [0.9860]], device='cuda:0'))"
      ]
     },
     "execution_count": 18,
     "metadata": {},
     "output_type": "execute_result"
    }
   ],
   "source": [
    "# Turn model into evaluation mode\n",
    "model_1.eval()\n",
    "\n",
    "with torch.inference_mode():\n",
    "    y_preds = model_1(X_test)\n",
    "\n",
    "y_preds, Y_test"
   ]
  },
  {
   "cell_type": "code",
   "execution_count": 12,
   "metadata": {},
   "outputs": [
    {
     "data": {
      "image/png": "[encoded data removed]",
      "text/plain": [
       "<Figure size 1000x700 with 1 Axes>"
      ]
     },
     "metadata": {},
     "output_type": "display_data"
    }
   ],
   "source": [
    "\n",
    "\n",
    "def plot_predictions(train_data = X_train,\n",
    "                     train_labels = Y_train,\n",
    "                     test_data = X_test,\n",
    "                     test_labels = Y_test,\n",
    "                     predictions = None):\n",
    "\n",
    "  \"\"\"\n",
    "  Plots training data, test data and compare predictions\n",
    "  \"\"\"\n",
    "  if train_data.is_cuda:\n",
    "        train_data = train_data.cpu()\n",
    "  if train_labels.is_cuda:\n",
    "      train_labels = train_labels.cpu()\n",
    "  if test_data.is_cuda:\n",
    "      test_data = test_data.cpu()\n",
    "  if test_labels.is_cuda:\n",
    "      test_labels = test_labels.cpu()\n",
    "  if predictions is not None and predictions.is_cuda:\n",
    "      predictions = predictions.cpu()\n",
    "      \n",
    "  plt.figure(figsize = (10, 7))\n",
    "\n",
    "  # Plot training data in blue\n",
    "  plt.scatter(train_data, train_labels, c= \"b\", s = 4, label = \"Training data\")\n",
    "\n",
    "  # Plot testing data in green\n",
    "  plt.scatter(test_data, test_labels, c= \"g\", s = 4, label = \"Testing data\")\n",
    "\n",
    "  # Are there predictions?\n",
    "  if predictions is not None:\n",
    "\n",
    "    #Plot the predictions if they exist\n",
    "    plt.scatter(test_data, predictions, c = \"r\", s = 4, label = \"Predictions\")\n",
    "\n",
    "\n",
    "  #Show the legend\n",
    "  plt.legend(prop = {\"size\" : 14})\n",
    "\n",
    "\n",
    "# Checkout model predictions visually\n",
    "plot_predictions(predictions=y_preds.cpu())"
   ]
  },
  {
   "cell_type": "markdown",
   "metadata": {},
   "source": [
    "### 5. Saving a trained model"
   ]
  },
  {
   "cell_type": "code",
   "execution_count": 13,
   "metadata": {},
   "outputs": [
    {
     "name": "stdout",
     "output_type": "stream",
     "text": [
      "Saving model to: model/01_pytorch_workflow_model_1.pth\n"
     ]
    }
   ],
   "source": [
    "\n",
    "from pathlib import Path\n",
    "\n",
    "MODEL_PATH = Path(\"model\")\n",
    "MODEL_PATH.mkdir(parents= True, exist_ok=True)\n",
    "\n",
    "MODEL_NAME = \"01_pytorch_workflow_model_1.pth\"\n",
    "MODEL_SAVE_PATH = MODEL_PATH / MODEL_NAME\n",
    "\n",
    "print(f\"Saving model to: {MODEL_SAVE_PATH}\")\n",
    "\n",
    "torch.save(obj = model_1.state_dict(),f = MODEL_SAVE_PATH)"
   ]
  },
  {
   "cell_type": "markdown",
   "metadata": {},
   "source": [
    "### Loading a trained model"
   ]
  },
  {
   "cell_type": "code",
   "execution_count": 15,
   "metadata": {},
   "outputs": [
    {
     "data": {
      "text/plain": [
       "tensor([[0.8600],\n",
       "        [0.8739],\n",
       "        [0.8878],\n",
       "        [0.9018],\n",
       "        [0.9157],\n",
       "        [0.9296],\n",
       "        [0.9436],\n",
       "        [0.9575],\n",
       "        [0.9714],\n",
       "        [0.9854]], device='cuda:0')"
      ]
     },
     "execution_count": 15,
     "metadata": {},
     "output_type": "execute_result"
    }
   ],
   "source": [
    "loaded_model_1 = LinearRegressionModelV2()\n",
    "\n",
    "loaded_model_1.load_state_dict(torch.load(f=MODEL_SAVE_PATH))\n",
    "\n",
    "#loaded_model_1.state_dict()\n",
    "\n",
    "# Making predictions with loaded model\n",
    "loaded_model_1.to(device)\n",
    "\n",
    "loaded_model_1.eval()\n",
    "with torch.inference_mode():\n",
    "    loaded_model_1_preds = loaded_model_1(X_test)\n",
    "\n",
    "loaded_model_1_preds"
   ]
  },
  {
   "cell_type": "code",
   "execution_count": 19,
   "metadata": {},
   "outputs": [
    {
     "data": {
      "text/plain": [
       "tensor([[True],\n",
       "        [True],\n",
       "        [True],\n",
       "        [True],\n",
       "        [True],\n",
       "        [True],\n",
       "        [True],\n",
       "        [True],\n",
       "        [True],\n",
       "        [True]], device='cuda:0')"
      ]
     },
     "execution_count": 19,
     "metadata": {},
     "output_type": "execute_result"
    }
   ],
   "source": [
    "y_preds == loaded_model_1_preds"
   ]
  },
  {
   "cell_type": "markdown",
   "metadata": {},
   "source": [
    "### Complete code in one step self written"
   ]
  },
  {
   "cell_type": "code",
   "execution_count": 43,
   "metadata": {},
   "outputs": [
    {
     "name": "stdout",
     "output_type": "stream",
     "text": [
      "Epochs : 0 | Training Loss : 0.5551779866218567 | Test_Loss : 0.5861001014709473\n",
      "Epochs : 10 | Training Loss : 0.5436570644378662 | Test_Loss : 0.5726293921470642\n",
      "Epochs : 20 | Training Loss : 0.5321362614631653 | Test_Loss : 0.5591585040092468\n",
      "Epochs : 30 | Training Loss : 0.5206153988838196 | Test_Loss : 0.5456876754760742\n",
      "Epochs : 40 | Training Loss : 0.5090945363044739 | Test_Loss : 0.5322169661521912\n",
      "Epochs : 50 | Training Loss : 0.49757376313209534 | Test_Loss : 0.5187460780143738\n",
      "Epochs : 60 | Training Loss : 0.48605284094810486 | Test_Loss : 0.5052752494812012\n",
      "Epochs : 70 | Training Loss : 0.47453203797340393 | Test_Loss : 0.49180442094802856\n",
      "Epochs : 80 | Training Loss : 0.4630111753940582 | Test_Loss : 0.4783336818218231\n",
      "Epochs : 90 | Training Loss : 0.4514903724193573 | Test_Loss : 0.4648628234863281\n",
      "Epochs : 100 | Training Loss : 0.4399694502353668 | Test_Loss : 0.4513919949531555\n",
      "Epochs : 110 | Training Loss : 0.4284486472606659 | Test_Loss : 0.4379211962223053\n",
      "Epochs : 120 | Training Loss : 0.4169278144836426 | Test_Loss : 0.4244503974914551\n",
      "Epochs : 130 | Training Loss : 0.4054069519042969 | Test_Loss : 0.41097956895828247\n",
      "Epochs : 140 | Training Loss : 0.39388611912727356 | Test_Loss : 0.39750877022743225\n",
      "Epochs : 150 | Training Loss : 0.38236525654792786 | Test_Loss : 0.38403797149658203\n",
      "Epochs : 160 | Training Loss : 0.37084442377090454 | Test_Loss : 0.3705671727657318\n",
      "Epochs : 170 | Training Loss : 0.3593235909938812 | Test_Loss : 0.3570963442325592\n",
      "Epochs : 180 | Training Loss : 0.3478027284145355 | Test_Loss : 0.343625545501709\n",
      "Epochs : 190 | Training Loss : 0.3362818658351898 | Test_Loss : 0.33015474677085876\n",
      "Epochs : 200 | Training Loss : 0.3247610330581665 | Test_Loss : 0.31668388843536377\n",
      "Epochs : 210 | Training Loss : 0.3132402002811432 | Test_Loss : 0.30321311950683594\n",
      "Epochs : 220 | Training Loss : 0.3017193675041199 | Test_Loss : 0.28974229097366333\n",
      "Epochs : 230 | Training Loss : 0.29019853472709656 | Test_Loss : 0.27627143263816833\n",
      "Epochs : 240 | Training Loss : 0.27867767214775085 | Test_Loss : 0.2628006637096405\n",
      "Epochs : 250 | Training Loss : 0.26715680956840515 | Test_Loss : 0.2493298500776291\n",
      "Epochs : 260 | Training Loss : 0.25563597679138184 | Test_Loss : 0.23585906624794006\n",
      "Epochs : 270 | Training Loss : 0.24411511421203613 | Test_Loss : 0.22238822281360626\n",
      "Epochs : 280 | Training Loss : 0.232594296336174 | Test_Loss : 0.20891742408275604\n",
      "Epochs : 290 | Training Loss : 0.2210734337568283 | Test_Loss : 0.19544661045074463\n",
      "Epochs : 300 | Training Loss : 0.209552600979805 | Test_Loss : 0.18197579681873322\n",
      "Epochs : 310 | Training Loss : 0.19803175330162048 | Test_Loss : 0.168504998087883\n",
      "Epochs : 320 | Training Loss : 0.18651090562343597 | Test_Loss : 0.1550341695547104\n",
      "Epochs : 330 | Training Loss : 0.17499005794525146 | Test_Loss : 0.14156334102153778\n",
      "Epochs : 340 | Training Loss : 0.16346922516822815 | Test_Loss : 0.12809255719184875\n",
      "Epochs : 350 | Training Loss : 0.15194837749004364 | Test_Loss : 0.11462175101041794\n",
      "Epochs : 360 | Training Loss : 0.14042751491069794 | Test_Loss : 0.10115094482898712\n",
      "Epochs : 370 | Training Loss : 0.12890666723251343 | Test_Loss : 0.08768010139465332\n",
      "Epochs : 380 | Training Loss : 0.11738584190607071 | Test_Loss : 0.07420932501554489\n",
      "Epochs : 390 | Training Loss : 0.105864979326725 | Test_Loss : 0.06073850393295288\n",
      "Epochs : 400 | Training Loss : 0.09434414654970169 | Test_Loss : 0.04726768285036087\n",
      "Epochs : 410 | Training Loss : 0.08282329887151718 | Test_Loss : 0.03379688784480095\n",
      "Epochs : 420 | Training Loss : 0.07130245864391327 | Test_Loss : 0.02032606676220894\n",
      "Epochs : 430 | Training Loss : 0.05978161096572876 | Test_Loss : 0.007426714990288019\n",
      "Epochs : 440 | Training Loss : 0.04826076328754425 | Test_Loss : 0.007407677359879017\n",
      "Epochs : 450 | Training Loss : 0.0378650426864624 | Test_Loss : 0.0190771222114563\n",
      "Epochs : 460 | Training Loss : 0.03187794238328934 | Test_Loss : 0.028085077181458473\n",
      "Epochs : 470 | Training Loss : 0.028469419106841087 | Test_Loss : 0.03448789194226265\n",
      "Epochs : 480 | Training Loss : 0.026411060243844986 | Test_Loss : 0.03905702382326126\n",
      "Epochs : 490 | Training Loss : 0.02506597898900509 | Test_Loss : 0.042284972965717316\n",
      "Epochs : 500 | Training Loss : 0.024156799539923668 | Test_Loss : 0.044561710208654404\n",
      "Epochs : 510 | Training Loss : 0.023461051285266876 | Test_Loss : 0.04618941619992256\n",
      "Epochs : 520 | Training Loss : 0.022931061685085297 | Test_Loss : 0.04717463254928589\n",
      "Epochs : 530 | Training Loss : 0.022473132237792015 | Test_Loss : 0.04766683652997017\n",
      "Epochs : 540 | Training Loss : 0.022060485556721687 | Test_Loss : 0.04794773459434509\n",
      "Epochs : 550 | Training Loss : 0.021657321602106094 | Test_Loss : 0.04808937385678291\n",
      "Epochs : 560 | Training Loss : 0.021304486319422722 | Test_Loss : 0.04767391085624695\n",
      "Epochs : 570 | Training Loss : 0.0209516491740942 | Test_Loss : 0.04725845530629158\n",
      "Epochs : 580 | Training Loss : 0.02059881016612053 | Test_Loss : 0.04684300348162651\n",
      "Epochs : 590 | Training Loss : 0.020245974883437157 | Test_Loss : 0.04642755538225174\n",
      "Epochs : 600 | Training Loss : 0.019893135875463486 | Test_Loss : 0.046012092381715775\n",
      "Epochs : 610 | Training Loss : 0.01954030431807041 | Test_Loss : 0.04559662938117981\n",
      "Epochs : 620 | Training Loss : 0.01919577270746231 | Test_Loss : 0.04483791068196297\n",
      "Epochs : 630 | Training Loss : 0.018852895125746727 | Test_Loss : 0.04401055723428726\n",
      "Epochs : 640 | Training Loss : 0.018508989363908768 | Test_Loss : 0.043183185160160065\n",
      "Epochs : 650 | Training Loss : 0.01816551759839058 | Test_Loss : 0.04242447763681412\n",
      "Epochs : 660 | Training Loss : 0.01782245934009552 | Test_Loss : 0.04159710556268692\n",
      "Epochs : 670 | Training Loss : 0.017478561028838158 | Test_Loss : 0.04076974466443062\n",
      "Epochs : 680 | Training Loss : 0.0171352606266737 | Test_Loss : 0.040011029690504074\n",
      "Epochs : 690 | Training Loss : 0.016792021691799164 | Test_Loss : 0.03918367251753807\n",
      "Epochs : 700 | Training Loss : 0.016448119655251503 | Test_Loss : 0.03835631161928177\n",
      "Epochs : 710 | Training Loss : 0.01610499992966652 | Test_Loss : 0.037597592920064926\n",
      "Epochs : 720 | Training Loss : 0.015761589631438255 | Test_Loss : 0.03677021339535713\n",
      "Epochs : 730 | Training Loss : 0.015417682006955147 | Test_Loss : 0.03594285994768143\n",
      "Epochs : 740 | Training Loss : 0.015074742026627064 | Test_Loss : 0.035184141248464584\n",
      "Epochs : 750 | Training Loss : 0.014731153845787048 | Test_Loss : 0.03435678035020828\n",
      "Epochs : 760 | Training Loss : 0.014387349598109722 | Test_Loss : 0.033598072826862335\n",
      "Epochs : 770 | Training Loss : 0.01404448039829731 | Test_Loss : 0.032770704478025436\n",
      "Epochs : 780 | Training Loss : 0.013700718060135841 | Test_Loss : 0.03194333240389824\n",
      "Epochs : 790 | Training Loss : 0.013357087038457394 | Test_Loss : 0.03118462674319744\n",
      "Epochs : 800 | Training Loss : 0.013014188967645168 | Test_Loss : 0.030357254669070244\n",
      "Epochs : 810 | Training Loss : 0.01267028134316206 | Test_Loss : 0.029529893770813942\n",
      "Epochs : 820 | Training Loss : 0.012326832860708237 | Test_Loss : 0.028771180659532547\n",
      "Epochs : 830 | Training Loss : 0.011983749456703663 | Test_Loss : 0.027943814173340797\n",
      "Epochs : 840 | Training Loss : 0.01163984090089798 | Test_Loss : 0.0271164420992136\n",
      "Epochs : 850 | Training Loss : 0.011296573095023632 | Test_Loss : 0.026357728987932205\n",
      "Epochs : 860 | Training Loss : 0.010953313671052456 | Test_Loss : 0.02553037367761135\n",
      "Epochs : 870 | Training Loss : 0.010609406046569347 | Test_Loss : 0.024703001603484154\n",
      "Epochs : 880 | Training Loss : 0.010266316123306751 | Test_Loss : 0.023944294080138206\n",
      "Epochs : 890 | Training Loss : 0.009922877885401249 | Test_Loss : 0.02311692200601101\n",
      "Epochs : 900 | Training Loss : 0.009578976780176163 | Test_Loss : 0.022289562970399857\n",
      "Epochs : 910 | Training Loss : 0.00923605915158987 | Test_Loss : 0.02153084985911846\n",
      "Epochs : 920 | Training Loss : 0.008892440237104893 | Test_Loss : 0.02070348896086216\n",
      "Epochs : 930 | Training Loss : 0.00854866299778223 | Test_Loss : 0.019944775849580765\n",
      "Epochs : 940 | Training Loss : 0.008205799385905266 | Test_Loss : 0.019117409363389015\n",
      "Epochs : 950 | Training Loss : 0.007862008176743984 | Test_Loss : 0.01829003170132637\n",
      "Epochs : 960 | Training Loss : 0.007518403232097626 | Test_Loss : 0.01753133535385132\n",
      "Epochs : 970 | Training Loss : 0.007175475358963013 | Test_Loss : 0.016703957691788673\n",
      "Epochs : 980 | Training Loss : 0.006831570994108915 | Test_Loss : 0.01587659679353237\n",
      "Epochs : 990 | Training Loss : 0.006488149054348469 | Test_Loss : 0.015117890201508999\n",
      "Epochs : 1000 | Training Loss : 0.006145037245005369 | Test_Loss : 0.01429052371531725\n",
      "Epochs : 1010 | Training Loss : 0.005801583174616098 | Test_Loss : 0.013497496023774147\n",
      "Epochs : 1020 | Training Loss : 0.005457866471260786 | Test_Loss : 0.012670129537582397\n",
      "Epochs : 1030 | Training Loss : 0.005114191677421331 | Test_Loss : 0.011911416426301003\n",
      "Epochs : 1040 | Training Loss : 0.00477132573723793 | Test_Loss : 0.011084044352173805\n",
      "Epochs : 1050 | Training Loss : 0.004427433013916016 | Test_Loss : 0.010256684385240078\n",
      "Epochs : 1060 | Training Loss : 0.004083935171365738 | Test_Loss : 0.00949797686189413\n",
      "Epochs : 1070 | Training Loss : 0.0037408999633044004 | Test_Loss : 0.008670604787766933\n",
      "Epochs : 1080 | Training Loss : 0.003396998392418027 | Test_Loss : 0.007843243889510632\n",
      "Epochs : 1090 | Training Loss : 0.0030536726117134094 | Test_Loss : 0.007084524724632502\n",
      "Epochs : 1100 | Training Loss : 0.0027104676701128483 | Test_Loss : 0.006257164757698774\n",
      "Epochs : 1110 | Training Loss : 0.0023665637709200382 | Test_Loss : 0.005429810378700495\n",
      "Epochs : 1120 | Training Loss : 0.002023416105657816 | Test_Loss : 0.00467108516022563\n",
      "Epochs : 1130 | Training Loss : 0.001679719309322536 | Test_Loss : 0.0038780630566179752\n",
      "Epochs : 1140 | Training Loss : 0.00133676384575665 | Test_Loss : 0.0030507028568536043\n",
      "Epochs : 1150 | Training Loss : 0.0009928614599630237 | Test_Loss : 0.002223330782726407\n",
      "Epochs : 1160 | Training Loss : 0.0006494596600532532 | Test_Loss : 0.0014646173221990466\n",
      "Epochs : 1170 | Training Loss : 0.00030632465495727956 | Test_Loss : 0.0006372571224346757\n",
      "Epochs : 1180 | Training Loss : 0.0007765308255329728 | Test_Loss : 0.000619995582383126\n",
      "Epochs : 1190 | Training Loss : 0.0007765308255329728 | Test_Loss : 0.000619995582383126\n",
      "Epochs : 1200 | Training Loss : 0.0007765308255329728 | Test_Loss : 0.000619995582383126\n",
      "Epochs : 1210 | Training Loss : 0.0007765308255329728 | Test_Loss : 0.000619995582383126\n",
      "Epochs : 1220 | Training Loss : 0.0007765308255329728 | Test_Loss : 0.000619995582383126\n",
      "Epochs : 1230 | Training Loss : 0.0007765308255329728 | Test_Loss : 0.000619995582383126\n",
      "Epochs : 1240 | Training Loss : 0.0007765308255329728 | Test_Loss : 0.000619995582383126\n",
      "Epochs : 1250 | Training Loss : 0.0007765308255329728 | Test_Loss : 0.000619995582383126\n",
      "Epochs : 1260 | Training Loss : 0.0007765308255329728 | Test_Loss : 0.000619995582383126\n",
      "Epochs : 1270 | Training Loss : 0.0007765308255329728 | Test_Loss : 0.000619995582383126\n",
      "Epochs : 1280 | Training Loss : 0.0007765308255329728 | Test_Loss : 0.000619995582383126\n",
      "Epochs : 1290 | Training Loss : 0.0007765308255329728 | Test_Loss : 0.000619995582383126\n",
      "Epochs : 1300 | Training Loss : 0.0007765308255329728 | Test_Loss : 0.000619995582383126\n",
      "Epochs : 1310 | Training Loss : 0.0007765308255329728 | Test_Loss : 0.000619995582383126\n",
      "Epochs : 1320 | Training Loss : 0.0007765308255329728 | Test_Loss : 0.000619995582383126\n",
      "Epochs : 1330 | Training Loss : 0.0007765308255329728 | Test_Loss : 0.000619995582383126\n",
      "Epochs : 1340 | Training Loss : 0.0007765308255329728 | Test_Loss : 0.000619995582383126\n",
      "Epochs : 1350 | Training Loss : 0.0007765308255329728 | Test_Loss : 0.000619995582383126\n",
      "Epochs : 1360 | Training Loss : 0.0007765308255329728 | Test_Loss : 0.000619995582383126\n",
      "Epochs : 1370 | Training Loss : 0.0007765308255329728 | Test_Loss : 0.000619995582383126\n",
      "Epochs : 1380 | Training Loss : 0.0007765308255329728 | Test_Loss : 0.000619995582383126\n",
      "Epochs : 1390 | Training Loss : 0.0007765308255329728 | Test_Loss : 0.000619995582383126\n",
      "Epochs : 1400 | Training Loss : 0.0007765308255329728 | Test_Loss : 0.000619995582383126\n",
      "Epochs : 1410 | Training Loss : 0.0007765308255329728 | Test_Loss : 0.000619995582383126\n",
      "Epochs : 1420 | Training Loss : 0.0007765308255329728 | Test_Loss : 0.000619995582383126\n",
      "Epochs : 1430 | Training Loss : 0.0007765308255329728 | Test_Loss : 0.000619995582383126\n",
      "Epochs : 1440 | Training Loss : 0.0007765308255329728 | Test_Loss : 0.000619995582383126\n",
      "Epochs : 1450 | Training Loss : 0.0007765308255329728 | Test_Loss : 0.000619995582383126\n",
      "Epochs : 1460 | Training Loss : 0.0007765308255329728 | Test_Loss : 0.000619995582383126\n",
      "Epochs : 1470 | Training Loss : 0.0007765308255329728 | Test_Loss : 0.000619995582383126\n",
      "Epochs : 1480 | Training Loss : 0.0007765308255329728 | Test_Loss : 0.000619995582383126\n",
      "Epochs : 1490 | Training Loss : 0.0007765308255329728 | Test_Loss : 0.000619995582383126\n",
      "Epochs : 1500 | Training Loss : 0.0007765308255329728 | Test_Loss : 0.000619995582383126\n",
      "Epochs : 1510 | Training Loss : 0.0007765308255329728 | Test_Loss : 0.000619995582383126\n",
      "Epochs : 1520 | Training Loss : 0.0007765308255329728 | Test_Loss : 0.000619995582383126\n",
      "Epochs : 1530 | Training Loss : 0.0007765308255329728 | Test_Loss : 0.000619995582383126\n",
      "Epochs : 1540 | Training Loss : 0.0007765308255329728 | Test_Loss : 0.000619995582383126\n",
      "Epochs : 1550 | Training Loss : 0.0007765308255329728 | Test_Loss : 0.000619995582383126\n",
      "Epochs : 1560 | Training Loss : 0.0007765308255329728 | Test_Loss : 0.000619995582383126\n",
      "Epochs : 1570 | Training Loss : 0.0007765308255329728 | Test_Loss : 0.000619995582383126\n",
      "Epochs : 1580 | Training Loss : 0.0007765308255329728 | Test_Loss : 0.000619995582383126\n",
      "Epochs : 1590 | Training Loss : 0.0007765308255329728 | Test_Loss : 0.000619995582383126\n",
      "Epochs : 1600 | Training Loss : 0.0007765308255329728 | Test_Loss : 0.000619995582383126\n",
      "Epochs : 1610 | Training Loss : 0.0007765308255329728 | Test_Loss : 0.000619995582383126\n",
      "Epochs : 1620 | Training Loss : 0.0007765308255329728 | Test_Loss : 0.000619995582383126\n",
      "Epochs : 1630 | Training Loss : 0.0007765308255329728 | Test_Loss : 0.000619995582383126\n",
      "Epochs : 1640 | Training Loss : 0.0007765308255329728 | Test_Loss : 0.000619995582383126\n",
      "Epochs : 1650 | Training Loss : 0.0007765308255329728 | Test_Loss : 0.000619995582383126\n",
      "Epochs : 1660 | Training Loss : 0.0007765308255329728 | Test_Loss : 0.000619995582383126\n",
      "Epochs : 1670 | Training Loss : 0.0007765308255329728 | Test_Loss : 0.000619995582383126\n",
      "Epochs : 1680 | Training Loss : 0.0007765308255329728 | Test_Loss : 0.000619995582383126\n",
      "Epochs : 1690 | Training Loss : 0.0007765308255329728 | Test_Loss : 0.000619995582383126\n",
      "Epochs : 1700 | Training Loss : 0.0007765308255329728 | Test_Loss : 0.000619995582383126\n",
      "Epochs : 1710 | Training Loss : 0.0007765308255329728 | Test_Loss : 0.000619995582383126\n",
      "Epochs : 1720 | Training Loss : 0.0007765308255329728 | Test_Loss : 0.000619995582383126\n",
      "Epochs : 1730 | Training Loss : 0.0007765308255329728 | Test_Loss : 0.000619995582383126\n",
      "Epochs : 1740 | Training Loss : 0.0007765308255329728 | Test_Loss : 0.000619995582383126\n",
      "Epochs : 1750 | Training Loss : 0.0007765308255329728 | Test_Loss : 0.000619995582383126\n",
      "Epochs : 1760 | Training Loss : 0.0007765308255329728 | Test_Loss : 0.000619995582383126\n",
      "Epochs : 1770 | Training Loss : 0.0007765308255329728 | Test_Loss : 0.000619995582383126\n",
      "Epochs : 1780 | Training Loss : 0.0007765308255329728 | Test_Loss : 0.000619995582383126\n",
      "Epochs : 1790 | Training Loss : 0.0007765308255329728 | Test_Loss : 0.000619995582383126\n",
      "Epochs : 1800 | Training Loss : 0.0007765308255329728 | Test_Loss : 0.000619995582383126\n",
      "Epochs : 1810 | Training Loss : 0.0007765308255329728 | Test_Loss : 0.000619995582383126\n",
      "Epochs : 1820 | Training Loss : 0.0007765308255329728 | Test_Loss : 0.000619995582383126\n",
      "Epochs : 1830 | Training Loss : 0.0007765308255329728 | Test_Loss : 0.000619995582383126\n",
      "Epochs : 1840 | Training Loss : 0.0007765308255329728 | Test_Loss : 0.000619995582383126\n",
      "Epochs : 1850 | Training Loss : 0.0007765308255329728 | Test_Loss : 0.000619995582383126\n",
      "Epochs : 1860 | Training Loss : 0.0007765308255329728 | Test_Loss : 0.000619995582383126\n",
      "Epochs : 1870 | Training Loss : 0.0007765308255329728 | Test_Loss : 0.000619995582383126\n",
      "Epochs : 1880 | Training Loss : 0.0007765308255329728 | Test_Loss : 0.000619995582383126\n",
      "Epochs : 1890 | Training Loss : 0.0007765308255329728 | Test_Loss : 0.000619995582383126\n",
      "Epochs : 1900 | Training Loss : 0.0007765308255329728 | Test_Loss : 0.000619995582383126\n",
      "Epochs : 1910 | Training Loss : 0.0007765308255329728 | Test_Loss : 0.000619995582383126\n",
      "Epochs : 1920 | Training Loss : 0.0007765308255329728 | Test_Loss : 0.000619995582383126\n",
      "Epochs : 1930 | Training Loss : 0.0007765308255329728 | Test_Loss : 0.000619995582383126\n",
      "Epochs : 1940 | Training Loss : 0.0007765308255329728 | Test_Loss : 0.000619995582383126\n",
      "Epochs : 1950 | Training Loss : 0.0007765308255329728 | Test_Loss : 0.000619995582383126\n",
      "Epochs : 1960 | Training Loss : 0.0007765308255329728 | Test_Loss : 0.000619995582383126\n",
      "Epochs : 1970 | Training Loss : 0.0007765308255329728 | Test_Loss : 0.000619995582383126\n",
      "Epochs : 1980 | Training Loss : 0.0007765308255329728 | Test_Loss : 0.000619995582383126\n",
      "Epochs : 1990 | Training Loss : 0.0007765308255329728 | Test_Loss : 0.000619995582383126\n",
      "----------------------------------------------------------\n",
      "\n",
      "\n",
      "Weight : 0.7  |  Predicted Weight tensor([[0.6999]], device='cuda:0')\n",
      "Bias : 0.3  |  Predicted Bias tensor([0.3008], device='cuda:0')\n",
      "Model saved at models/LinearRegressionModelV3.pth\n"
     ]
    }
   ],
   "source": [
    "# Libraries\n",
    "import torch\n",
    "from torch import nn\n",
    "import matplotlib.pyplot as plt\n",
    "from pathlib import Path\n",
    "\n",
    "# Device agnostic code\n",
    "device = \"cuda\" if torch.cuda.is_available() else \"cpu\"\n",
    "\n",
    "#print(device)\n",
    "\n",
    "\n",
    "# Preparing data for Linear Regression\n",
    "weight = 0.7\n",
    "bias = 0.3\n",
    "\n",
    "start = 0\n",
    "end = 1\n",
    "step = 0.02\n",
    "\n",
    "X = torch.arange(start, end, step).unsqueeze(dim = 1)\n",
    "\n",
    "# Linear Regression equation y = mx + c\n",
    "y = weight * X + bias\n",
    "\n",
    "# Preparing data for training and testing\n",
    "train_split = int(0.8 * len(X))\n",
    "\n",
    "X_train = X[ : train_split].to(device)\n",
    "Y_train = y[ : train_split].to(device)\n",
    "X_test = X[train_split : ].to(device)\n",
    "Y_test = y[train_split : ].to(device)\n",
    "\n",
    "\n",
    "# Building a model\n",
    "\n",
    "class LinearRegressionModelV3(nn.Module):\n",
    "    def __init__(self, *args, **kwargs) -> None:\n",
    "        super().__init__(*args, **kwargs)\n",
    "\n",
    "        self.linear_layer = nn.Linear(in_features=1, out_features=1)\n",
    "\n",
    "\n",
    "    def forward(self, x : torch.tensor) -> torch.tensor:\n",
    "        return self.linear_layer(x)\n",
    "    \n",
    "torch.manual_seed(42)    \n",
    "# Creating a model\n",
    "model_2 = LinearRegressionModelV3()\n",
    "\n",
    "model_2.to(device)\n",
    "#next(model_2.parameters()).device\n",
    "#model_2, model_2.state_dict()\n",
    "\n",
    "# Loss function\n",
    "loss_fn = nn.L1Loss()\n",
    "\n",
    "# Optimizer\n",
    "Optimizer = torch.optim.SGD(params= model_2.parameters(), \n",
    "                            lr= 0.001)\n",
    "\n",
    "# Writing training code\n",
    "epochs = 2000\n",
    "\n",
    "for epoch in range(epochs):\n",
    "    model_2.train()\n",
    "\n",
    "    #1. Forward pass\n",
    "    y_preds = model_2(X_train)\n",
    "\n",
    "    #2. Calculate Loss\n",
    "    training_loss = loss_fn(y_preds, Y_train)\n",
    "\n",
    "    #3. Optimizer zero grad\n",
    "    Optimizer.zero_grad()\n",
    "\n",
    "    #4. Backpropagation\n",
    "    training_loss.backward()\n",
    "\n",
    "    #5. Optimizer step\n",
    "    Optimizer.step()\n",
    "\n",
    "    # Writing testing code\n",
    "    model_2.eval()\n",
    "\n",
    "    with torch.inference_mode():\n",
    "        model_2_preds = model_2(X_test)\n",
    "        test_loss = loss_fn(model_2_preds, Y_test)\n",
    "\n",
    "    \n",
    "    if epoch%10 == 0:\n",
    "        print(f\"Epochs : {epoch} | Training Loss : {training_loss} | Test_Loss : {test_loss}\")\n",
    "\n",
    "\n",
    "print(\"----------------------------------------------------------\\n\\n\")\n",
    "result = model_2.state_dict()\n",
    "print(f\"Weight : {weight}  |  Predicted Weight {result[\"linear_layer.weight\"]}\")\n",
    "print(f\"Bias : {bias}  |  Predicted Bias {result[\"linear_layer.bias\"]}\")\n",
    "\n",
    "\n",
    "# Saving our model\n",
    "MODEL_PATH = Path(\"models\")\n",
    "MODEL_PATH.mkdir(parents=True, exist_ok=True)\n",
    "MODEL_NAME = \"LinearRegressionModelV3.pth\"\n",
    "MODEL_SAVE_PATH = MODEL_PATH / MODEL_NAME\n",
    "\n",
    "torch.save(obj=model_2.state_dict(),\n",
    "           f = MODEL_SAVE_PATH)\n",
    "print(f\"Model saved at {MODEL_SAVE_PATH}\")\n",
    "\n",
    "\n",
    "\n",
    "\n"
   ]
  },
  {
   "cell_type": "code",
   "execution_count": 44,
   "metadata": {},
   "outputs": [
    {
     "data": {
      "image/png": "[encoded data removed]",
      "text/plain": [
       "<Figure size 1000x700 with 1 Axes>"
      ]
     },
     "metadata": {},
     "output_type": "display_data"
    }
   ],
   "source": [
    "# Plotting our model\n",
    "plot_predictions(predictions=model_2_preds.cpu())"
   ]
  },
  {
   "cell_type": "code",
   "execution_count": 45,
   "metadata": {},
   "outputs": [
    {
     "data": {
      "text/plain": [
       "tensor([[True],\n",
       "        [True],\n",
       "        [True],\n",
       "        [True],\n",
       "        [True],\n",
       "        [True],\n",
       "        [True],\n",
       "        [True],\n",
       "        [True],\n",
       "        [True]], device='cuda:0')"
      ]
     },
     "execution_count": 45,
     "metadata": {},
     "output_type": "execute_result"
    }
   ],
   "source": [
    "# Loading our model\n",
    "model_4 = LinearRegressionModelV3()\n",
    "model_4.load_state_dict(torch.load(f = MODEL_SAVE_PATH))\n",
    "model_4.state_dict()\n",
    "\n",
    "torch.manual_seed(42)\n",
    "model_4.to(device)\n",
    "model_4.eval()\n",
    "with torch.inference_mode():\n",
    "    model_4_preds = model_4(X_test)\n",
    "\n",
    "\n",
    "model_2_preds == model_4_preds"
   ]
  },
  {
   "cell_type": "code",
   "execution_count": 1,
   "metadata": {},
   "outputs": [
    {
     "data": {
      "text/plain": [
       "'2.3.1'"
      ]
     },
     "execution_count": 1,
     "metadata": {},
     "output_type": "execute_result"
    }
   ],
   "source": [
    "import torch\n",
    "from torch import nn\n",
    "import matplotlib.pyplot as plt\n",
    "\n",
    "torch.__version__"
   ]
  },
  {
   "cell_type": "code",
   "execution_count": 3,
   "metadata": {},
   "outputs": [
    {
     "name": "stdout",
     "output_type": "stream",
     "text": [
      "cuda\n"
     ]
    }
   ],
   "source": [
    "device = 'cuda' if torch.cuda.is_available() else 'cpu'\n",
    "print(device)"
   ]
  },
  {
   "cell_type": "code",
   "execution_count": 17,
   "metadata": {},
   "outputs": [
    {
     "data": {
      "text/plain": [
       "(tensor([[0.0000],\n",
       "         [0.0100],\n",
       "         [0.0200],\n",
       "         [0.0300],\n",
       "         [0.0400],\n",
       "         [0.0500],\n",
       "         [0.0600],\n",
       "         [0.0700],\n",
       "         [0.0800],\n",
       "         [0.0900]]),\n",
       " tensor([[0.5000],\n",
       "         [0.5400],\n",
       "         [0.5800],\n",
       "         [0.6200],\n",
       "         [0.6600],\n",
       "         [0.7000],\n",
       "         [0.7400],\n",
       "         [0.7800],\n",
       "         [0.8200],\n",
       "         [0.8600]]))"
      ]
     },
     "execution_count": 17,
     "metadata": {},
     "output_type": "execute_result"
    }
   ],
   "source": [
    "weight = 4\n",
    "bias = 0.5\n",
    "\n",
    "start = 0\n",
    "end = 100\n",
    "step = 0.01\n",
    "\n",
    "X = torch.arange(start, end, step).unsqueeze(dim = 1)\n",
    "y = weight * X + bias\n",
    "\n",
    "X[:10], y [:10]"
   ]
  },
  {
   "cell_type": "code",
   "execution_count": 27,
   "metadata": {},
   "outputs": [
    {
     "data": {
      "text/plain": [
       "(2000, device(type='cuda', index=0))"
      ]
     },
     "execution_count": 27,
     "metadata": {},
     "output_type": "execute_result"
    }
   ],
   "source": [
    "train_split = int(0.8 * len(X))\n",
    "X_train , Y_train = X[:train_split].to(device), y[:train_split].to(device)\n",
    "X_test , Y_test = X[train_split:].to(device), y[train_split:].to(device)\n",
    "\n",
    "len(X_test), X_train.device"
   ]
  },
  {
   "cell_type": "code",
   "execution_count": 19,
   "metadata": {},
   "outputs": [],
   "source": [
    "def plot_predictions(train_data = X_train,\n",
    "                     train_labels = Y_train,\n",
    "                     test_data = X_test,\n",
    "                     test_labels = Y_test,\n",
    "                     predictions = None):\n",
    "\n",
    "  \"\"\"\n",
    "  Plots training data, test data and compare predictions\n",
    "  \"\"\"\n",
    "  if train_data.is_cuda:\n",
    "        train_data = train_data.cpu()\n",
    "  if train_labels.is_cuda:\n",
    "      train_labels = train_labels.cpu()\n",
    "  if test_data.is_cuda:\n",
    "      test_data = test_data.cpu()\n",
    "  if test_labels.is_cuda:\n",
    "      test_labels = test_labels.cpu()\n",
    "  if predictions is not None and predictions.is_cuda:\n",
    "      predictions = predictions.cpu()\n",
    "      \n",
    "  plt.figure(figsize = (10, 7))\n",
    "\n",
    "  # Plot training data in blue\n",
    "  plt.scatter(train_data, train_labels, c= \"b\", s = 4, label = \"Training data\")\n",
    "\n",
    "  # Plot testing data in green\n",
    "  plt.scatter(test_data, test_labels, c= \"g\", s = 4, label = \"Testing data\")\n",
    "\n",
    "  # Are there predictions?\n",
    "  if predictions is not None:\n",
    "\n",
    "    #Plot the predictions if they exist\n",
    "    plt.scatter(test_data, predictions, c = \"r\", s = 4, label = \"Predictions\")\n",
    "\n",
    "\n",
    "  #Show the legend\n",
    "  plt.legend(prop = {\"size\" : 14})"
   ]
  },
  {
   "cell_type": "code",
   "execution_count": 20,
   "metadata": {},
   "outputs": [
    {
     "data": {
      "image/png": "[encoded data removed]",
      "text/plain": [
       "<Figure size 1000x700 with 1 Axes>"
      ]
     },
     "metadata": {},
     "output_type": "display_data"
    }
   ],
   "source": [
    "plot_predictions()"
   ]
  },
  {
   "cell_type": "code",
   "execution_count": 21,
   "metadata": {},
   "outputs": [
    {
     "data": {
      "text/plain": [
       "device(type='cuda', index=0)"
      ]
     },
     "execution_count": 21,
     "metadata": {},
     "output_type": "execute_result"
    }
   ],
   "source": [
    "class Linear_Regression_Model(nn.Module):\n",
    "    def __init__(self) :\n",
    "        super().__init__()\n",
    "        self.linear_layer = nn.Linear(in_features=1, out_features=1)\n",
    "\n",
    "    def forward(self, x: torch.Tensor) -> torch.Tensor:\n",
    "        return self.linear_layer(x)\n",
    "    \n",
    "\n",
    "torch.manual_seed(42)\n",
    "model_6 = Linear_Regression_Model()\n",
    "model_6, model_6.state_dict()\n",
    "model_6.to(device)\n",
    "next(model_6.parameters()).device"
   ]
  },
  {
   "cell_type": "code",
   "execution_count": 33,
   "metadata": {},
   "outputs": [],
   "source": [
    "loss_fn = nn.L1Loss()\n",
    "optimizer = torch.optim.SGD(params = model_6.parameters(), lr = 0.0001)"
   ]
  },
  {
   "cell_type": "code",
   "execution_count": 64,
   "metadata": {},
   "outputs": [
    {
     "name": "stdout",
     "output_type": "stream",
     "text": [
      "Epoch : 0 | Loss: 0.0014457113575190306 | Training loss: 0.3583722710609436\n",
      "Epoch : 10 | Loss: 0.001441938104107976 | Training loss: 0.3583761155605316\n",
      "Epoch : 20 | Loss: 0.0014380955835804343 | Training loss: 0.3583800196647644\n",
      "Epoch : 30 | Loss: 0.0014339734334498644 | Training loss: 0.3583838939666748\n",
      "Epoch : 40 | Loss: 0.001429880503565073 | Training loss: 0.3583877682685852\n",
      "Epoch : 50 | Loss: 0.0014263999182730913 | Training loss: 0.3583913743495941\n",
      "Epoch : 60 | Loss: 0.0014228769578039646 | Training loss: 0.35839492082595825\n",
      "Epoch : 70 | Loss: 0.0014193778624758124 | Training loss: 0.3583984971046448\n",
      "Epoch : 80 | Loss: 0.0014158951817080379 | Training loss: 0.3584020435810089\n",
      "Epoch : 90 | Loss: 0.0014124102890491486 | Training loss: 0.3584056496620178\n",
      "Epoch : 100 | Loss: 0.0014089196920394897 | Training loss: 0.35840925574302673\n",
      "Epoch : 110 | Loss: 0.0014051650650799274 | Training loss: 0.35841280221939087\n",
      "Epoch : 120 | Loss: 0.0014013658510521054 | Training loss: 0.3584164083003998\n",
      "Epoch : 130 | Loss: 0.0013977393973618746 | Training loss: 0.35841992497444153\n",
      "Epoch : 140 | Loss: 0.0013942531077191234 | Training loss: 0.35842353105545044\n",
      "Epoch : 150 | Loss: 0.0013907244428992271 | Training loss: 0.3584270775318146\n",
      "Epoch : 160 | Loss: 0.001387236057780683 | Training loss: 0.3584306836128235\n",
      "Epoch : 170 | Loss: 0.0013837474398314953 | Training loss: 0.3584342300891876\n",
      "Epoch : 180 | Loss: 0.0013802667381241918 | Training loss: 0.35843783617019653\n",
      "Epoch : 190 | Loss: 0.0013766780029982328 | Training loss: 0.35844141244888306\n",
      "Epoch : 200 | Loss: 0.0013728702906519175 | Training loss: 0.35844501852989197\n",
      "Epoch : 210 | Loss: 0.001369083533063531 | Training loss: 0.3584485650062561\n",
      "Epoch : 220 | Loss: 0.0013655978254973888 | Training loss: 0.358452171087265\n",
      "Epoch : 230 | Loss: 0.0013620920944958925 | Training loss: 0.35845571756362915\n",
      "Epoch : 240 | Loss: 0.001358579844236374 | Training loss: 0.3584592938423157\n",
      "Epoch : 250 | Loss: 0.00135509402025491 | Training loss: 0.3584628701210022\n",
      "Epoch : 260 | Loss: 0.0013516014441847801 | Training loss: 0.3584664463996887\n",
      "Epoch : 270 | Loss: 0.0013481223722919822 | Training loss: 0.35846999287605286\n",
      "Epoch : 280 | Loss: 0.0013443870702758431 | Training loss: 0.35847359895706177\n",
      "Epoch : 290 | Loss: 0.001340576563961804 | Training loss: 0.3584771752357483\n",
      "Epoch : 300 | Loss: 0.001336936722509563 | Training loss: 0.3584807813167572\n",
      "Epoch : 310 | Loss: 0.0013334548566490412 | Training loss: 0.35848432779312134\n",
      "Epoch : 320 | Loss: 0.0013299159472808242 | Training loss: 0.35848790407180786\n",
      "Epoch : 330 | Loss: 0.0013264339650049806 | Training loss: 0.3584914803504944\n",
      "Epoch : 340 | Loss: 0.0013229494215920568 | Training loss: 0.3584950864315033\n",
      "Epoch : 350 | Loss: 0.0013194590574130416 | Training loss: 0.35849860310554504\n",
      "Epoch : 360 | Loss: 0.0013158944202587008 | Training loss: 0.35850220918655396\n",
      "Epoch : 370 | Loss: 0.0013120953226462007 | Training loss: 0.3585057556629181\n",
      "Epoch : 380 | Loss: 0.001308411592617631 | Training loss: 0.35850924253463745\n",
      "Epoch : 390 | Loss: 0.001305200275965035 | Training loss: 0.3585125207901001\n",
      "Epoch : 400 | Loss: 0.0013020008336752653 | Training loss: 0.35851579904556274\n",
      "Epoch : 410 | Loss: 0.0012987615773454309 | Training loss: 0.358519047498703\n",
      "Epoch : 420 | Loss: 0.001295570400543511 | Training loss: 0.3585223853588104\n",
      "Epoch : 430 | Loss: 0.0012923682807013392 | Training loss: 0.35852566361427307\n",
      "Epoch : 440 | Loss: 0.001289178617298603 | Training loss: 0.3585289418697357\n",
      "Epoch : 450 | Loss: 0.001285951933823526 | Training loss: 0.358532190322876\n",
      "Epoch : 460 | Loss: 0.0012824578443542123 | Training loss: 0.3585354685783386\n",
      "Epoch : 470 | Loss: 0.001278977608308196 | Training loss: 0.35853874683380127\n",
      "Epoch : 480 | Loss: 0.0012756690848618746 | Training loss: 0.35854199528694153\n",
      "Epoch : 490 | Loss: 0.0012724737171083689 | Training loss: 0.35854530334472656\n",
      "Epoch : 500 | Loss: 0.0012692350428551435 | Training loss: 0.3585485816001892\n",
      "Epoch : 510 | Loss: 0.001266035600565374 | Training loss: 0.35855185985565186\n",
      "Epoch : 520 | Loss: 0.001262843725271523 | Training loss: 0.3585551679134369\n",
      "Epoch : 530 | Loss: 0.0012596455635502934 | Training loss: 0.35855841636657715\n",
      "Epoch : 540 | Loss: 0.0012564487988129258 | Training loss: 0.3585617244243622\n",
      "Epoch : 550 | Loss: 0.0012530238600447774 | Training loss: 0.3585650324821472\n",
      "Epoch : 560 | Loss: 0.0012495305854827166 | Training loss: 0.3585682511329651\n",
      "Epoch : 570 | Loss: 0.001246138708665967 | Training loss: 0.3585715591907501\n",
      "Epoch : 580 | Loss: 0.0012429481139406562 | Training loss: 0.3585748076438904\n",
      "Epoch : 590 | Loss: 0.001239702571183443 | Training loss: 0.358578085899353\n",
      "Epoch : 600 | Loss: 0.001236509531736374 | Training loss: 0.3585813641548157\n",
      "Epoch : 610 | Loss: 0.0012333119520917535 | Training loss: 0.3585846722126007\n",
      "Epoch : 620 | Loss: 0.001230113790370524 | Training loss: 0.35858798027038574\n",
      "Epoch : 630 | Loss: 0.0012272142339497805 | Training loss: 0.35859090089797974\n",
      "Epoch : 640 | Loss: 0.001224211766384542 | Training loss: 0.3585938811302185\n",
      "Epoch : 650 | Loss: 0.0012210498098284006 | Training loss: 0.35859689116477966\n",
      "Epoch : 660 | Loss: 0.0012178755132481456 | Training loss: 0.35859987139701843\n",
      "Epoch : 670 | Loss: 0.001214866410009563 | Training loss: 0.3586028516292572\n",
      "Epoch : 680 | Loss: 0.001211959752254188 | Training loss: 0.3586058020591736\n",
      "Epoch : 690 | Loss: 0.0012090102536603808 | Training loss: 0.35860878229141235\n",
      "Epoch : 700 | Loss: 0.0012061086017638445 | Training loss: 0.3586117625236511\n",
      "Epoch : 710 | Loss: 0.0012031979858875275 | Training loss: 0.3586147427558899\n",
      "Epoch : 720 | Loss: 0.0012002978473901749 | Training loss: 0.35861775279045105\n",
      "Epoch : 730 | Loss: 0.0011973887449130416 | Training loss: 0.35862067341804504\n",
      "Epoch : 740 | Loss: 0.0011944655561819673 | Training loss: 0.3586237132549286\n",
      "Epoch : 750 | Loss: 0.0011912897462025285 | Training loss: 0.35862666368484497\n",
      "Epoch : 760 | Loss: 0.0011881195241585374 | Training loss: 0.35862961411476135\n",
      "Epoch : 770 | Loss: 0.0011850493028759956 | Training loss: 0.3586326539516449\n",
      "Epoch : 780 | Loss: 0.001182138454169035 | Training loss: 0.35863563418388367\n",
      "Epoch : 790 | Loss: 0.001179239945486188 | Training loss: 0.35863858461380005\n",
      "Epoch : 800 | Loss: 0.001176282181404531 | Training loss: 0.3586415648460388\n",
      "Epoch : 810 | Loss: 0.0011733835563063622 | Training loss: 0.3586445748806\n",
      "Epoch : 820 | Loss: 0.0011704704957082868 | Training loss: 0.35864749550819397\n",
      "Epoch : 830 | Loss: 0.001167571172118187 | Training loss: 0.3586505353450775\n",
      "Epoch : 840 | Loss: 0.0011646677739918232 | Training loss: 0.3586534857749939\n",
      "Epoch : 850 | Loss: 0.001161528518423438 | Training loss: 0.3586564362049103\n",
      "Epoch : 860 | Loss: 0.0011583664454519749 | Training loss: 0.35865944623947144\n",
      "Epoch : 870 | Loss: 0.0011552221840247512 | Training loss: 0.3586624264717102\n",
      "Epoch : 880 | Loss: 0.0011523240245878696 | Training loss: 0.35866543650627136\n",
      "Epoch : 890 | Loss: 0.0011494167847558856 | Training loss: 0.35866841673851013\n",
      "Epoch : 900 | Loss: 0.0011464660055935383 | Training loss: 0.3586713671684265\n",
      "Epoch : 910 | Loss: 0.0011435580672696233 | Training loss: 0.35867440700531006\n",
      "Epoch : 920 | Loss: 0.0011406524572521448 | Training loss: 0.35867732763290405\n",
      "Epoch : 930 | Loss: 0.0011377520859241486 | Training loss: 0.3586803078651428\n",
      "Epoch : 940 | Loss: 0.001134843216277659 | Training loss: 0.358683317899704\n",
      "Epoch : 950 | Loss: 0.0011317786993458867 | Training loss: 0.358686238527298\n",
      "Epoch : 960 | Loss: 0.0011286016087979078 | Training loss: 0.35868924856185913\n",
      "Epoch : 970 | Loss: 0.0011254348792135715 | Training loss: 0.3586922287940979\n",
      "Epoch : 980 | Loss: 0.0011225019115954638 | Training loss: 0.35869520902633667\n",
      "Epoch : 990 | Loss: 0.0011195949045941234 | Training loss: 0.35869818925857544\n"
     ]
    }
   ],
   "source": [
    "torch.manual_seed(42)\n",
    "epochs = 1000\n",
    "\n",
    "for epoch in range(epochs):\n",
    "    model_6.train()\n",
    "\n",
    "    y_pred = model_6(X_train)\n",
    "\n",
    "    loss = loss_fn(y_pred, Y_train)\n",
    "\n",
    "    optimizer.zero_grad()\n",
    "\n",
    "    loss.backward()\n",
    "\n",
    "    optimizer.step()\n",
    "\n",
    "\n",
    "    #Testing\n",
    "    model_6.eval()\n",
    "\n",
    "    with torch.inference_mode():\n",
    "        test_pred = model_6(X_test)\n",
    "\n",
    "        test_loss = loss_fn(test_pred, Y_test)\n",
    "\n",
    "\n",
    "    if epoch%10 == 0:\n",
    "        print(f\"Epoch : {epoch} | Loss: {loss} | Training loss: {test_loss}\")\n"
   ]
  },
  {
   "cell_type": "code",
   "execution_count": 65,
   "metadata": {},
   "outputs": [
    {
     "data": {
      "text/plain": [
       "OrderedDict([('linear_layer.weight', tensor([[4.0000]], device='cuda:0')),\n",
       "             ('linear_layer.bias', tensor([0.5009], device='cuda:0'))])"
      ]
     },
     "execution_count": 65,
     "metadata": {},
     "output_type": "execute_result"
    }
   ],
   "source": [
    "model_6.state_dict()"
   ]
  },
  {
   "cell_type": "code",
   "execution_count": 66,
   "metadata": {},
   "outputs": [
    {
     "data": {
      "image/png": "[encoded data removed]",
      "text/plain": [
       "<Figure size 1000x700 with 1 Axes>"
      ]
     },
     "metadata": {},
     "output_type": "display_data"
    }
   ],
   "source": [
    "plot_predictions(predictions=test_pred)"
   ]
  },
  {
   "cell_type": "code",
   "execution_count": 67,
   "metadata": {},
   "outputs": [
    {
     "name": "stdout",
     "output_type": "stream",
     "text": [
      "saving_model\n"
     ]
    }
   ],
   "source": [
    "from pathlib import Path\n",
    "\n",
    "MODEL_PATH = Path(\"models\")\n",
    "MODEL_PATH.mkdir(parents=True, exist_ok=True)\n",
    "\n",
    "MODEL_NAME = \"Pytorch_model_6.pth\"\n",
    "MODEL_SAVE_PATH = MODEL_PATH / MODEL_NAME\n",
    "\n",
    "print(\"saving_model\")\n",
    "torch.save(obj= model_6.state_dict(), f=MODEL_SAVE_PATH)"
   ]
  },
  {
   "cell_type": "code",
   "execution_count": null,
   "metadata": {},
   "outputs": [],
   "source": []
  }
 ],
 "metadata": {
  "kernelspec": {
   "display_name": "Python 3 (ipykernel)",
   "language": "python",
   "name": "python3"
  },
  "language_info": {
   "codemirror_mode": {
    "name": "ipython",
    "version": 3
   },
   "file_extension": ".py",
   "mimetype": "text/x-python",
   "name": "python",
   "nbconvert_exporter": "python",
   "pygments_lexer": "ipython3",
   "version": "3.12.4"
  }
 },
 "nbformat": 4,
 "nbformat_minor": 2
}
