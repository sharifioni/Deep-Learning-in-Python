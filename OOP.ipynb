{
 "cells": [
  {
   "cell_type": "markdown",
   "metadata": {},
   "source": [
    "# CLasses in Python"
   ]
  },
  {
   "cell_type": "code",
   "execution_count": 33,
   "metadata": {},
   "outputs": [],
   "source": [
    "class Item:\n",
    "\n",
    "    # Clas variables\n",
    "    pay_rate = 0.8 # Pay after 20 % discount\n",
    "    all = []\n",
    "\n",
    "    def __init__(self, name: str, price: float, quantity = 0):\n",
    "        \n",
    "        # Validations on received arguments\n",
    "        assert price>=0, f\"Price {price} must be greater than or equal to zero\"\n",
    "        assert quantity>=0, f\"Price {quantity} must be greater than or equal to zero\"\n",
    "\n",
    "        \n",
    "        # Initiaizing Instance variables\n",
    "        self.name = name\n",
    "        self.price = price\n",
    "        self.quantity = quantity\n",
    "\n",
    "        self.all.append(self)\n",
    "\n",
    "    def total_amount(self):\n",
    "        return self.price * self.quantity\n",
    "    \n",
    "\n",
    "    def apply_discount(self):\n",
    "        self.price = self.price * self.pay_rate   # Item.pay_rate can also be written   \n",
    "\n",
    "\n",
    "    # for better representation of all the instance attributes we use __repr__  magic method inside class\n",
    "    def __repr__(self) -> str:\n",
    "        return f\"Item({self.name}, {self.price}, {self.quantity})\"\n",
    "    \n",
    "\n",
    "    \n",
    "\n",
    "\n"
   ]
  },
  {
   "cell_type": "code",
   "execution_count": 2,
   "metadata": {},
   "outputs": [
    {
     "name": "stdout",
     "output_type": "stream",
     "text": [
      "Total amount for Mobile is 1200\n"
     ]
    }
   ],
   "source": [
    "# Creating Class Instances\n",
    "item1 = Item(\"Mobile\", 400, 3)\n",
    "print(f\"Total amount for {item1.name} is {item1.total_amount()}\")\n",
    "\n"
   ]
  },
  {
   "cell_type": "code",
   "execution_count": 4,
   "metadata": {},
   "outputs": [
    {
     "name": "stdout",
     "output_type": "stream",
     "text": [
      "0.8\n",
      "0.8\n"
     ]
    }
   ],
   "source": [
    "# Accessing class variable\n",
    "print(Item.pay_rate)  # Through class nanme\n",
    "print(item1.pay_rate)     # Through instance "
   ]
  },
  {
   "cell_type": "code",
   "execution_count": 6,
   "metadata": {},
   "outputs": [
    {
     "name": "stdout",
     "output_type": "stream",
     "text": [
      "{'__module__': '__main__', 'pay_rate': 0.8, '__init__': <function Item.__init__ at 0x7fe71f30d4e0>, 'total_amount': <function Item.total_amount at 0x7fe71f30d580>, '__dict__': <attribute '__dict__' of 'Item' objects>, '__weakref__': <attribute '__weakref__' of 'Item' objects>, '__doc__': None}\n",
      "{'name': 'Mobile', 'price': 400, 'quantity': 3}\n"
     ]
    }
   ],
   "source": [
    "# Built in magic attribute  __dict__\n",
    "# This will show all the attributes belonging to an object\n",
    "# For example:\n",
    "\n",
    "print(Item.__dict__)   # Class attributes\n",
    "print(item1.__dict__)  # Instance level attributes"
   ]
  },
  {
   "cell_type": "code",
   "execution_count": 9,
   "metadata": {},
   "outputs": [
    {
     "name": "stdout",
     "output_type": "stream",
     "text": [
      "800.0\n"
     ]
    }
   ],
   "source": [
    "# Discount on item 2\n",
    "item2 = Item(\"Laptop\", 1000, 5)\n",
    "item2.apply_discount()\n",
    "print(item2.price)"
   ]
  },
  {
   "cell_type": "code",
   "execution_count": 11,
   "metadata": {},
   "outputs": [
    {
     "name": "stdout",
     "output_type": "stream",
     "text": [
      "70.0\n"
     ]
    }
   ],
   "source": [
    "# Applying discount on a specific item \n",
    "item3 = Item(\"Charger\", 100, 6)\n",
    "item3.pay_rate = 0.7            # changing pay rate for a specific item by using class level attribute\n",
    "item3.apply_discount()\n",
    "print(item3.price)"
   ]
  },
  {
   "cell_type": "code",
   "execution_count": 34,
   "metadata": {},
   "outputs": [
    {
     "name": "stdout",
     "output_type": "stream",
     "text": [
      "[Item(Phone, 100, 1), Item(Laptop, 1000, 3), Item(Cable, 10, 5), Item(Mouse, 50, 5), Item(Keyboard, 75, 5)]\n"
     ]
    }
   ],
   "source": [
    "# If we have a lot of items and we want to see all items together, we can use a list as a class level attribute\n",
    "# we added all = [] list as a class level attribute\n",
    "item1 = Item(\"Phone\", 100, 1)\n",
    "item2 = Item(\"Laptop\", 1000, 3)\n",
    "item3 = Item(\"Cable\", 10, 5)\n",
    "item4 = Item(\"Mouse\", 50, 5)\n",
    "item5 = Item(\"Keyboard\", 75, 5)\n",
    "print(Item.all)   # prints all the items in 'all' list"
   ]
  },
  {
   "cell_type": "code",
   "execution_count": 18,
   "metadata": {},
   "outputs": [
    {
     "name": "stdout",
     "output_type": "stream",
     "text": [
      "Phone\n",
      "Laptop\n",
      "Cable\n",
      "Mouse\n",
      "Keyboard\n"
     ]
    }
   ],
   "source": [
    "# to print all the item names\n",
    "\n",
    "for instances in Item.all:\n",
    "    print(instances.name)     "
   ]
  },
  {
   "cell_type": "markdown",
   "metadata": {},
   "source": [
    "### Adding csv method for creating instances and getting data from csv file\n",
    "* This method will be a class method since we to create instances inside it, we will access it through class "
   ]
  },
  {
   "cell_type": "code",
   "execution_count": 1,
   "metadata": {},
   "outputs": [
    {
     "name": "stdout",
     "output_type": "stream",
     "text": [
      "{'name': 'Phone', 'price': '100', 'quantity': '1'}\n",
      "{'name': 'Laptop', 'price': '1000', 'quantity': '3'}\n",
      "{'name': 'Cable', 'price': '10', 'quantity': '5'}\n",
      "{'name': 'Mouse', 'price': '50', 'quantity': '5'}\n",
      "{'name': 'Keyboard', 'price': '70', 'quantity': '5'}\n",
      "[Item(Phone, 100.0, 1), Item(Laptop, 1000.0, 3), Item(Cable, 10.0, 5), Item(Mouse, 50.0, 5), Item(Keyboard, 70.0, 5)]\n"
     ]
    }
   ],
   "source": [
    "import csv\n",
    "\n",
    "class Item:\n",
    "\n",
    "    # Clas variables\n",
    "    pay_rate = 0.8 # Pay after 20 % discount\n",
    "    all = []\n",
    "\n",
    "    def __init__(self, name: str, price: float, quantity = 0):\n",
    "        \n",
    "        # Validations on received arguments\n",
    "        assert price>=0, f\"Price {price} must be greater than or equal to zero\"\n",
    "        assert quantity>=0, f\"Price {quantity} must be greater than or equal to zero\"\n",
    "\n",
    "        \n",
    "        # Initiaizing Instance variables\n",
    "        self.name = name\n",
    "        self.price = price\n",
    "        self.quantity = quantity\n",
    "\n",
    "        self.all.append(self)\n",
    "\n",
    "\n",
    "    @classmethod\n",
    "    def instantiate_from_csv(cls):\n",
    "        with open(\"items.csv\", 'r') as f:\n",
    "            reader = csv.DictReader(f)\n",
    "            items = list(reader)\n",
    "\n",
    "        for item in items:\n",
    "            print(item)\n",
    "            Item(\n",
    "                name= item.get('name'), \n",
    "                 price=float(item.get('price')),\n",
    "                 quantity=int(item.get('quantity'))\n",
    "                 )\n",
    "\n",
    "\n",
    "    def total_amount(self):\n",
    "        return self.price * self.quantity\n",
    "    \n",
    "\n",
    "    def apply_discount(self):\n",
    "        self.price = self.price * self.pay_rate   # Item.pay_rate can also be written   \n",
    "\n",
    "\n",
    "    # for better representation of all the instance attributes we use __repr__  magic method inside class\n",
    "    def __repr__(self) -> str:\n",
    "        return f\"Item({self.name}, {self.price}, {self.quantity})\"\n",
    "    \n",
    "\n",
    "\n",
    "Item.instantiate_from_csv()\n",
    "\n",
    "print(Item.all)"
   ]
  },
  {
   "cell_type": "markdown",
   "metadata": {},
   "source": [
    "# Static Method\n",
    "\n",
    "* Since the price values we are getting are in floats, there are some values like 100.0, 1000.0 or 10.0 . It's better to represent them in the form 100, 1000 or 10\n",
    "* So we will create a static method to achieve this\n",
    "* Static methods have a very clear use-case. When we need some functionality not w.r.t an Object but w.r.t the complete class, we make a method static. This is pretty much advantageous when we need to create Utility methods as they aren’t tied to an object lifecycle usually. Finally, note that in a static method, we don’t need the self to be passed as the first argument.\n",
    "* We don't need to pass a class or an object as an argument to a static method"
   ]
  },
  {
   "cell_type": "code",
   "execution_count": 2,
   "metadata": {},
   "outputs": [
    {
     "name": "stdout",
     "output_type": "stream",
     "text": [
      "[Item(Phone, 100, 1), Item(Laptop, 1000, 3), Item(Cable, 10, 5), Item(Mouse, 50, 5), Item(Keyboard, 70, 5)]\n"
     ]
    }
   ],
   "source": [
    "import csv\n",
    "\n",
    "class Item:\n",
    "\n",
    "    # Clas variables\n",
    "    pay_rate = 0.8 # Pay after 20 % discount\n",
    "    all = []\n",
    "\n",
    "    def __init__(self, name: str, price: float, quantity = 0):\n",
    "        \n",
    "        # Validations on received arguments\n",
    "        assert price>=0, f\"Price {price} must be greater than or equal to zero\"\n",
    "        assert quantity>=0, f\"Price {quantity} must be greater than or equal to zero\"\n",
    "\n",
    "        \n",
    "        # Initiaizing Instance variables\n",
    "        self.name = name\n",
    "        self.price = price\n",
    "        self.quantity = quantity\n",
    "\n",
    "        self.all.append(self)\n",
    "\n",
    "\n",
    "    @classmethod\n",
    "    def instantiate_from_csv(cls):\n",
    "        with open(\"items.csv\", 'r') as f:\n",
    "            reader = csv.DictReader(f)\n",
    "            items = list(reader)\n",
    "\n",
    "        for item in items:\n",
    "            price_val = float(item.get('price'))\n",
    "\n",
    "            if Item.is_integer(price_val):\n",
    "                price_val = int(price_val)\n",
    "\n",
    "            Item(\n",
    "                name= item.get('name'), \n",
    "                 price= price_val,\n",
    "                 quantity=int(item.get('quantity'))\n",
    "                 )\n",
    "\n",
    "\n",
    "    @staticmethod\n",
    "    def is_integer(num):\n",
    "\n",
    "        if isinstance(num, float):\n",
    "            return num.is_integer()\n",
    "        \n",
    "        elif isinstance(num, int):\n",
    "            return num.is_integer()   # The numbers like 7.0, 8.0, 100.0 will be considered as integers with this method\n",
    "        \n",
    "        else:\n",
    "            False\n",
    "\n",
    "    def total_amount(self):\n",
    "        return self.price * self.quantity\n",
    "    \n",
    "\n",
    "    def apply_discount(self):\n",
    "        self.price = self.price * self.pay_rate   # Item.pay_rate can also be written   \n",
    "\n",
    "\n",
    "    # for better representation of all the instance attributes we use __repr__  magic method inside class\n",
    "    def __repr__(self) -> str:\n",
    "        return f\"Item({self.name}, {self.price}, {self.quantity})\"\n",
    "    \n",
    "\n",
    "\n",
    "Item.instantiate_from_csv()\n",
    "\n",
    "print(Item.all)"
   ]
  },
  {
   "cell_type": "markdown",
   "metadata": {},
   "source": [
    "# Class method vs Static Method\n",
    "\n",
    "The difference between the Class method and the static method is:\n",
    "\n",
    "* A class method takes cls as the first parameter while a static method needs no specific parameters.\n",
    "* A class method can access or modify the class state while a static method can’t access or modify it.\n",
    "* In general, static methods know nothing about the class state. They are utility-type methods that take some parameters and work upon those parameters. On the other hand class methods must have class as a parameter.\n",
    "* We use @classmethod decorator in python to create a class method and we use @staticmethod decorator to create a static method in python.\n",
    "\n",
    "\n",
    "# When to use the class or static method?\n",
    "* We generally use the class method to create factory methods. Factory methods return class objects ( similar to a constructor ) for different use cases.\n",
    "* We generally use static methods to create utility functions."
   ]
  },
  {
   "cell_type": "code",
   "execution_count": 3,
   "metadata": {},
   "outputs": [
    {
     "name": "stdout",
     "output_type": "stream",
     "text": [
      "21\n",
      "28\n",
      "True\n"
     ]
    }
   ],
   "source": [
    "# Example \n",
    "# Python program to demonstrate\n",
    "# use of class method and static method.\n",
    "from datetime import date\n",
    "\n",
    "\n",
    "class Person:\n",
    "\tdef __init__(self, name, age):\n",
    "\t\tself.name = name\n",
    "\t\tself.age = age\n",
    "\n",
    "\t# a class method to create a Person object by birth year.\n",
    "\t@classmethod\n",
    "\tdef fromBirthYear(cls, name, year):\n",
    "\t\treturn cls(name, date.today().year - year)\n",
    "\n",
    "\t# a static method to check if a Person is adult or not.\n",
    "\t@staticmethod\n",
    "\tdef isAdult(age):\n",
    "\t\treturn age > 18\n",
    "\n",
    "\n",
    "person1 = Person('mayank', 21)\n",
    "person2 = Person.fromBirthYear('mayank', 1996)\n",
    "\n",
    "print(person1.age)\n",
    "print(person2.age)\n",
    "\n",
    "# print the result\n",
    "print(Person.isAdult(22))\n"
   ]
  },
  {
   "cell_type": "markdown",
   "metadata": {},
   "source": [
    "# Inheritance"
   ]
  },
  {
   "cell_type": "code",
   "execution_count": 15,
   "metadata": {},
   "outputs": [
    {
     "name": "stdout",
     "output_type": "stream",
     "text": [
      "[Item(jscPhonev10, 500, 5, 1), Item(jscPhonev20, 700, 5, 1)]\n"
     ]
    }
   ],
   "source": [
    "import csv\n",
    "\n",
    "class Item:\n",
    "\n",
    "    # Clas variables\n",
    "    pay_rate = 0.8 # Pay after 20 % discount\n",
    "    all = []\n",
    "\n",
    "    def __init__(self, name: str, price: float, quantity = 0):\n",
    "        \n",
    "        # Validations on received arguments\n",
    "        assert price>=0, f\"Price {price} must be greater than or equal to zero\"\n",
    "        assert quantity>=0, f\"Price {quantity} must be greater than or equal to zero\"\n",
    "\n",
    "        \n",
    "        # Initiaizing Instance variables\n",
    "        self.name = name\n",
    "        self.price = price\n",
    "        self.quantity = quantity\n",
    "\n",
    "        self.all.append(self)\n",
    "\n",
    "\n",
    "    @classmethod\n",
    "    def instantiate_from_csv(cls):\n",
    "        with open(\"items.csv\", 'r') as f:\n",
    "            reader = csv.DictReader(f)\n",
    "            items = list(reader)\n",
    "\n",
    "        for item in items:\n",
    "            price_val = float(item.get('price'))\n",
    "\n",
    "            if Item.is_integer(price_val):\n",
    "                price_val = int(price_val)\n",
    "\n",
    "            Item(\n",
    "                name= item.get('name'), \n",
    "                 price= price_val,\n",
    "                 quantity=int(item.get('quantity'))\n",
    "                 )\n",
    "\n",
    "\n",
    "    @staticmethod\n",
    "    def is_integer(num):\n",
    "\n",
    "        if isinstance(num, float):\n",
    "            return num.is_integer()\n",
    "        \n",
    "        elif isinstance(num, int):\n",
    "            return num.is_integer()   # The numbers like 7.0, 8.0, 100.0 will be considered as integers with this method\n",
    "        \n",
    "        else:\n",
    "            False\n",
    "\n",
    "    def total_amount(self):\n",
    "        return self.price * self.quantity\n",
    "    \n",
    "\n",
    "    def apply_discount(self):\n",
    "        self.price = self.price * self.pay_rate   # Item.pay_rate can also be written   \n",
    "\n",
    "\n",
    "    # for better representation of all the instance attributes we use __repr__  magic method inside class\n",
    "    def __repr__(self) -> str:\n",
    "        return f\"Item({self.name}, {self.price}, {self.quantity}, {self.broken_phones})\"\n",
    "    \n",
    "\n",
    "\n",
    "class Phone(Item):\n",
    "    def __init__(self, name: str, price: float, quantity=0, broken_phones = 0):\n",
    "        super().__init__(name, price, quantity)\n",
    "\n",
    "        self.broken_phones = broken_phones\n",
    "\n",
    "        #Phone.all.append(self)\n",
    "\n",
    "   \n",
    "\n",
    "phone1 = Phone(\"jscPhonev10\", 500, 5, 1)\n",
    "phone1.broken_phones = 1\n",
    "phone2 = Phone(\"jscPhonev20\", 700, 5, 1)\n",
    "phone2.broken_phones = 1\n",
    "\n",
    "print(Item.all)"
   ]
  },
  {
   "cell_type": "code",
   "execution_count": null,
   "metadata": {},
   "outputs": [],
   "source": []
  },
  {
   "cell_type": "code",
   "execution_count": 18,
   "metadata": {},
   "outputs": [
    {
     "name": "stdout",
     "output_type": "stream",
     "text": [
      "[Item(jscPhonev10, 500, 5, 1), Item(jscPhonev20, 700, 5, 1)]\n"
     ]
    }
   ],
   "source": [
    "import csv\n",
    "\n",
    "class Item:\n",
    "\n",
    "    # Clas variables\n",
    "    pay_rate = 0.8 # Pay after 20 % discount\n",
    "    all = []\n",
    "\n",
    "    def __init__(self, name: str, price: float, quantity = 0):\n",
    "        \n",
    "        # Validations on received arguments\n",
    "        assert price>=0, f\"Price {price} must be greater than or equal to zero\"\n",
    "        assert quantity>=0, f\"Price {quantity} must be greater than or equal to zero\"\n",
    "\n",
    "        \n",
    "        # Initiaizing Instance variables\n",
    "        self.name = name\n",
    "        self.price = price\n",
    "        self.quantity = quantity\n",
    "\n",
    "        self.all.append(self)\n",
    "\n",
    "\n",
    "    @classmethod\n",
    "    def instantiate_from_csv(cls):\n",
    "        with open(\"items.csv\", 'r') as f:\n",
    "            reader = csv.DictReader(f)\n",
    "            items = list(reader)\n",
    "\n",
    "        for item in items:\n",
    "            price_val = float(item.get('price'))\n",
    "\n",
    "            if Item.is_integer(price_val):\n",
    "                price_val = int(price_val)\n",
    "\n",
    "            Item(\n",
    "                name= item.get('name'), \n",
    "                 price= price_val,\n",
    "                 quantity=int(item.get('quantity'))\n",
    "                 )\n",
    "\n",
    "\n",
    "    @staticmethod\n",
    "    def is_integer(num):\n",
    "\n",
    "        if isinstance(num, float):\n",
    "            return num.is_integer()\n",
    "        \n",
    "        elif isinstance(num, int):\n",
    "            return num.is_integer()   # The numbers like 7.0, 8.0, 100.0 will be considered as integers with this method\n",
    "        \n",
    "        else:\n",
    "            False\n",
    "\n",
    "    def total_amount(self):\n",
    "        return self.price * self.quantity\n",
    "    \n",
    "\n",
    "    def apply_discount(self):\n",
    "        self.price = self.price * self.pay_rate   # Item.pay_rate can also be written   \n",
    "\n",
    "\n",
    "    # for better representation of all the instance attributes we use __repr__  magic method inside class\n",
    "    def __repr__(self) -> str:\n",
    "        return f\"Item({self.name}, {self.price}, {self.quantity}, {self.broken_phones})\"\n",
    "    \n",
    "\n",
    "\n",
    "class Phone(Item):\n",
    "    def __init__(self, name: str, price: float, quantity=0, broken_phones = 0):\n",
    "        super().__init__(name, price, quantity)\n",
    "\n",
    "        self.broken_phones = broken_phones\n",
    "\n",
    "        Phone.all.append(self)\n",
    "\n",
    "   \n",
    "\n",
    "phone1 = Phone(\"jscPhonev10\", 500, 5, 1)\n",
    "phone1.broken_phones = 1\n",
    "phone2 = Phone(\"jscPhonev20\", 700, 5, 1)\n",
    "phone2.broken_phones = 1\n",
    "\n",
    "print(Item.all)"
   ]
  },
  {
   "cell_type": "code",
   "execution_count": 23,
   "metadata": {},
   "outputs": [
    {
     "name": "stdout",
     "output_type": "stream",
     "text": [
      "[Phone(jscPhonev10, 500, 4), Phone(jscPhonev20, 700, 4)]\n",
      "[Phone(jscPhonev10, 500, 4), Phone(jscPhonev20, 700, 4)]\n"
     ]
    }
   ],
   "source": [
    "import csv\n",
    "\n",
    "class Item:\n",
    "    pay_rate = 0.8  # Pay after 20% discount\n",
    "    all = []\n",
    "\n",
    "    def __init__(self, name: str, price: float, quantity=0):\n",
    "        # Validations on received arguments\n",
    "        assert price >= 0, f\"Price {price} must be greater than or equal to zero\"\n",
    "        assert quantity >= 0, f\"Quantity {quantity} must be greater than or equal to zero\"\n",
    "\n",
    "        # Initializing instance variables\n",
    "        self.name = name\n",
    "        self.price = price\n",
    "        self.quantity = quantity\n",
    "\n",
    "        # Append the new instance to the class-level list\n",
    "        Item.all.append(self)\n",
    "\n",
    "    @classmethod\n",
    "    def instantiate_from_csv(cls):\n",
    "        with open(\"items.csv\", 'r') as f:\n",
    "            reader = csv.DictReader(f)\n",
    "            items = list(reader)\n",
    "\n",
    "        for item in items:\n",
    "            price_val = float(item.get('price'))\n",
    "\n",
    "            if Item.is_integer(price_val):\n",
    "                price_val = int(price_val)\n",
    "\n",
    "            Item(\n",
    "                name=item.get('name'),\n",
    "                price=price_val,\n",
    "                quantity=int(item.get('quantity'))\n",
    "            )\n",
    "\n",
    "    @staticmethod\n",
    "    def is_integer(num):\n",
    "        if isinstance(num, float):\n",
    "            return num.is_integer()\n",
    "        elif isinstance(num, int):\n",
    "            return num.is_integer()  # The numbers like 7.0, 8.0, 100.0 will be considered as integers with this method\n",
    "        else:\n",
    "            return False\n",
    "\n",
    "    def total_amount(self):\n",
    "        return self.price * self.quantity\n",
    "\n",
    "    def apply_discount(self):\n",
    "        self.price = self.price * self.pay_rate  # Item.pay_rate can also be written\n",
    "\n",
    "    # for better representation of all the instance attributes we use __repr__ magic method inside class\n",
    "    def __repr__(self) -> str:\n",
    "        return f\"{self.__class__.__name__}({self.name}, {self.price}, {self.quantity})\"\n",
    "\n",
    "\n",
    "class Phone(Item):\n",
    "    def __init__(self, name: str, price: float, quantity=0, broken_phones=0):\n",
    "        super().__init__(name, price, quantity)\n",
    "\n",
    "        assert broken_phones >= 0, f\"Quantity {broken_phones} must be greater than or equal to zero\"\n",
    "\n",
    "        self.broken_phones = broken_phones\n",
    "\n",
    "        # changing the value of quantity by subtracting broken phones\n",
    "        self.quantity = quantity - broken_phones\n",
    "\n",
    "\n",
    "\n",
    "phone1 = Phone(\"jscPhonev10\", 500, 5, 1)\n",
    "phone2 = Phone(\"jscPhonev20\", 700, 5, 1)\n",
    "\n",
    "print(Item.all)\n",
    "print(Phone.all)\n"
   ]
  },
  {
   "cell_type": "code",
   "execution_count": null,
   "metadata": {},
   "outputs": [],
   "source": [
    "class Item:\n",
    "    \n",
    "    pay_rate = 0.8\n",
    "    all = []\n",
    "\n",
    "    def __init__(self, name : str, price : float, quantity = 0) :\n",
    "        \n",
    "        # Enter validations on the instance arguments\n",
    "        assert price >= 0 , f\"Price {price} is not greater than or equal to zero\"\n",
    "        assert quantity >=0 , f\"Quantity {quantity} is not greater than or equal to zero\"\n",
    "\n",
    "        # Initializing instance objects\n",
    "        self.name = name\n",
    "        self.price = price\n",
    "        self.quantity = quantity\n",
    "\n",
    "\n",
    "        Item.all.append(self)\n",
    "\n",
    "    def calculate_total_price(self):\n",
    "        return self.price * self.quantity\n",
    "    \n",
    "    def apply_discount(self):\n",
    "        self.price = self.price * self.pay_rate\n",
    "\n",
    "    def __repr__(self) :\n",
    "        return \n",
    "\n"
   ]
  }
 ],
 "metadata": {
  "kernelspec": {
   "display_name": "Python 3 (ipykernel)",
   "language": "python",
   "name": "python3"
  },
  "language_info": {
   "codemirror_mode": {
    "name": "ipython",
    "version": 3
   },
   "file_extension": ".py",
   "mimetype": "text/x-python",
   "name": "python",
   "nbconvert_exporter": "python",
   "pygments_lexer": "ipython3",
   "version": "3.12.4"
  }
 },
 "nbformat": 4,
 "nbformat_minor": 2
}
